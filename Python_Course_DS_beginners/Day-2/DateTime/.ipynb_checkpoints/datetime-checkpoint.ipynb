{
 "cells": [
  {
   "cell_type": "markdown",
   "metadata": {},
   "source": [
    "### The line below tells the Python interpreter that from the datetime module import the date class, time class. "
   ]
  },
  {
   "cell_type": "code",
   "execution_count": 16,
   "metadata": {
    "collapsed": true
   },
   "outputs": [],
   "source": [
    "from datetime import date\n",
    "from datetime import time\n",
    "from datetime import datetime"
   ]
  },
  {
   "cell_type": "code",
   "execution_count": 5,
   "metadata": {},
   "outputs": [
    {
     "name": "stdout",
     "output_type": "stream",
     "text": [
      "Today's date is 2018-05-25\n"
     ]
    }
   ],
   "source": [
    "# To get the todays date - use today(). So we will call the instance of this date object\n",
    "def main():\n",
    "    today = date.today()\n",
    "    print(\"Today's date is {}\".format(today))\n",
    "\n",
    "if __name__ == \"__main__\": main()\n"
   ]
  },
  {
   "cell_type": "code",
   "execution_count": 8,
   "metadata": {},
   "outputs": [
    {
     "name": "stdout",
     "output_type": "stream",
     "text": [
      "Day :: 25\n",
      "Month :: 5\n",
      "year :: 2018\n"
     ]
    }
   ],
   "source": [
    "# One can also get the individual components of the date\n",
    "today = date.today()\n",
    "print(f'Day :: {today.day}')\n",
    "print(f'Month :: {today.month}')\n",
    "print(f'year :: {today.year}')"
   ]
  },
  {
   "cell_type": "code",
   "execution_count": 9,
   "metadata": {},
   "outputs": [
    {
     "data": {
      "text/plain": [
       "4"
      ]
     },
     "execution_count": 9,
     "metadata": {},
     "output_type": "execute_result"
    }
   ],
   "source": [
    "# Sometimes it is important from analysis purpose to flag the weekends. One way to do so is by using the below function.\n",
    "today.weekday()"
   ]
  },
  {
   "cell_type": "markdown",
   "metadata": {},
   "source": [
    "## Below is the table matching the number with corresponding day.\n",
    "\n",
    "| DAY   |      WEEKDAY NUMBER \n",
    "|:----------|:-------------\n",
    "| Monday |  0 |\n",
    "| Tuesday |    1   |\n",
    "| Wednesday | 2 |\n",
    "| Thursday |  3 |\n",
    "| Friday |    4   |\n",
    "| Saturday | 5 |\n",
    "| Sunday | 6 |\n",
    "\n",
    "### We can also check for the time using datetime module. Following are the functions which are quite helpful.\n"
   ]
  },
  {
   "cell_type": "code",
   "execution_count": 17,
   "metadata": {},
   "outputs": [
    {
     "name": "stdout",
     "output_type": "stream",
     "text": [
      "the current date and time is 2018-05-25 22:53:03.259592.\n"
     ]
    }
   ],
   "source": [
    "def main():\n",
    "    today = datetime.now()\n",
    "    print(f'The current date and time is {today}.')\n",
    "\n",
    "if __name__ == \"__main__\":\n",
    "    main()"
   ]
  },
  {
   "cell_type": "code",
   "execution_count": 18,
   "metadata": {},
   "outputs": [
    {
     "name": "stdout",
     "output_type": "stream",
     "text": [
      "Current time is 22:54:21.566020\n"
     ]
    }
   ],
   "source": [
    "# You can also print the current time without the date\n",
    "t = datetime.time(datetime.now())\n",
    "print(f'Current time is {t}')"
   ]
  },
  {
   "cell_type": "code",
   "execution_count": 19,
   "metadata": {},
   "outputs": [
    {
     "name": "stdout",
     "output_type": "stream",
     "text": [
      "4\n"
     ]
    }
   ],
   "source": [
    "wd =  date.weekday(today)\n",
    "print(wd)\n"
   ]
  },
  {
   "cell_type": "markdown",
   "metadata": {},
   "source": [
    "As you notice that weekday() function returns a number between [0-6] to represent each day of the week. we will now learn how to extract the name of the day from the array list of week days name."
   ]
  },
  {
   "cell_type": "code",
   "execution_count": 20,
   "metadata": {},
   "outputs": [
    {
     "name": "stdout",
     "output_type": "stream",
     "text": [
      "Todays day in number is : 4\n",
      "Which is Friday\n"
     ]
    }
   ],
   "source": [
    "def main():\n",
    "    wd = date.weekday(today)\n",
    "    days = [\"Monday\", \"Tuesday\", \"Wednesday\", \"Thurday\", \"Friday\", \"Saturday\", \"Sunday\"]\n",
    "    print(f'Todays day in number is : {wd}')\n",
    "    print(f'Which is {days[wd]}')\n",
    "\n",
    "if __name__ == \"__main__\":\n",
    "    main()"
   ]
  },
  {
   "cell_type": "markdown",
   "metadata": {},
   "source": [
    "### Let's advance a step further and lets learn how to use the formatting function to format Time and Date.\n",
    "## Format Date and Time Output with Strftime()"
   ]
  },
  {
   "cell_type": "code",
   "execution_count": 26,
   "metadata": {},
   "outputs": [
    {
     "name": "stdout",
     "output_type": "stream",
     "text": [
      "2018\n",
      "18\n",
      "May\n",
      "May\n",
      "Fri\n",
      "Friday\n",
      "25\n"
     ]
    }
   ],
   "source": [
    "from datetime import datetime\n",
    "def main():\n",
    "    now = datetime.now() # returns the current date and time\n",
    "    print(now.strftime(\"%Y\")) # full year with century - Like 2018\n",
    "    print(now.strftime(\"%y\")) # full year with century - Like 18\n",
    "    \n",
    "    print(now.strftime(\"%b\")) # name of the month - like May\n",
    "    print(now.strftime(\"%B\")) # name of the month - like september\n",
    "    \n",
    "    print(now.strftime(\"%a\")) # name of the weekday - like Fri\n",
    "    print(now.strftime(\"%A\")) # name of the weekday - like Friday\n",
    "    \n",
    "    print(now.strftime(\"%d\")) # date of the month\n",
    "    \n",
    "    #### Date formatting ####\n",
    "    # %y/%Y - Year, %a/%A - Weekday, %b/%B - month, %d - day of the month\n",
    "\n",
    "if __name__ == \"__main__\":\n",
    "    main()"
   ]
  },
  {
   "cell_type": "code",
   "execution_count": 29,
   "metadata": {},
   "outputs": [
    {
     "name": "stdout",
     "output_type": "stream",
     "text": [
      "Friday, 25 May, 18\n"
     ]
    }
   ],
   "source": [
    "def main():\n",
    "    now = datetime.now()\n",
    "    print(now.strftime(\"%A, %d %B, %y\"))\n",
    "if __name__ == \"__main__\":\n",
    "    main()"
   ]
  },
  {
   "cell_type": "markdown",
   "metadata": {},
   "source": [
    "#### One can also retrive local system time, date or both with the strftime() function.\n",
    "1. %c- indicates the local date and time\n",
    "2. %x- indicates the local date\n",
    "3. %X- indicates the local time\n",
    "\n",
    "Also just by defining control code like %I/H for hour, % M for minute, %S for second, one can call time for different formats. "
   ]
  },
  {
   "cell_type": "code",
   "execution_count": 34,
   "metadata": {},
   "outputs": [
    {
     "name": "stdout",
     "output_type": "stream",
     "text": [
      "2018-05-25 23:21:21.940623\n",
      "Fri May 25 23:21:21 2018\n",
      "05/25/18\n",
      "23:21:21\n"
     ]
    }
   ],
   "source": [
    "now =  datetime.now()\n",
    "print(now)\n",
    "\n",
    "print(now.strftime(\"%c\"))\n",
    "print(now.strftime(\"%x\"))\n",
    "print(now.strftime(\"%X\"))"
   ]
  },
  {
   "cell_type": "code",
   "execution_count": 36,
   "metadata": {},
   "outputs": [
    {
     "name": "stdout",
     "output_type": "stream",
     "text": [
      "11:22:36 PM\n",
      "23:22\n"
     ]
    }
   ],
   "source": [
    "from datetime import datetime\n",
    "def main():\n",
    "    now= datetime.now() #get the current date and time\n",
    "      \n",
    "##### Time Formatting ####\n",
    "    #%I/%H - 12/24 Hour, %M - minute, %S - second, %p - local's AM/PM\n",
    "    print(now.strftime(\"%I:%M:%S %p\")) # 12-Hour:Minute:Second:AM\n",
    "    print(now.strftime(\"%H:%M\")) # 24-Hour:Minute\n",
    "\n",
    "if __name__== \"__main__\":\n",
    "    main()"
   ]
  },
  {
   "cell_type": "markdown",
   "metadata": {},
   "source": [
    "### Using Timedelta Objects\n",
    "With timedelta objects, you can estimate the time for both future and the past. In other words, it is a timespan to predict any special day, date or time. \n",
    "Remember this function is not for printing out the time or date, but something to CALCULATE about the future or past. Let's see an example to understand it better."
   ]
  },
  {
   "cell_type": "code",
   "execution_count": 37,
   "metadata": {},
   "outputs": [
    {
     "name": "stdout",
     "output_type": "stream",
     "text": [
      "365 days, 8:15:00\n",
      "today is: 2018-05-25 23:24:36.204451\n",
      "one year from now it will be:2019-05-25 23:24:36.204451\n",
      "New Year day is already went by 144 days ago\n"
     ]
    }
   ],
   "source": [
    "from datetime import timedelta\n",
    "\n",
    "# construct a basic timedelta and print it\n",
    "print (timedelta(days=365, hours=8, minutes=15))\n",
    "\n",
    "# print today's date\n",
    "print (\"today is: \" + str(datetime.now()))\n",
    "\n",
    "# print today's date one year from now\n",
    "print (\"one year from now it will be:\" + str(datetime.now() + timedelta(days=365)))\n",
    "\n",
    "\n",
    "# create a timedelta that uses more than one argument\n",
    "# print (in one week and 4 days it will be \" + str(datetime.now() + timedelta(weeks=1, days=4)))\n",
    "\n",
    "# How many days until New Year's Day?\n",
    "today = date.today()  # get todays date\n",
    "\n",
    "nyd = date(today.year, 1, 1)  # get New Year Day for the same year\n",
    "\n",
    "# use date comparison to see if New Year Day has already gone for this year\n",
    "# if it has, use the replace() function to get the date for next year\n",
    "\n",
    "if nyd < today:\n",
    "    print (\"New Year day is already went by %d days ago\" % ((today - nyd).days))"
   ]
  },
  {
   "cell_type": "code",
   "execution_count": null,
   "metadata": {
    "collapsed": true
   },
   "outputs": [],
   "source": []
  }
 ],
 "metadata": {
  "kernelspec": {
   "display_name": "Python [default]",
   "language": "python",
   "name": "python3"
  },
  "language_info": {
   "codemirror_mode": {
    "name": "ipython",
    "version": 3
   },
   "file_extension": ".py",
   "mimetype": "text/x-python",
   "name": "python",
   "nbconvert_exporter": "python",
   "pygments_lexer": "ipython3",
   "version": "3.6.1"
  }
 },
 "nbformat": 4,
 "nbformat_minor": 2
}
