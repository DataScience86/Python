{
 "cells": [
  {
   "cell_type": "markdown",
   "metadata": {},
   "source": [
    "### The line below tells the Python interpreter that from the datetime module import the date class, time class. "
   ]
  },
  {
   "cell_type": "code",
   "execution_count": 1,
   "metadata": {
    "collapsed": true
   },
   "outputs": [],
   "source": [
    "from datetime import date\n",
    "from datetime import time\n",
    "from datetime import datetime"
   ]
  },
  {
   "cell_type": "code",
   "execution_count": 2,
   "metadata": {},
   "outputs": [
    {
     "name": "stdout",
     "output_type": "stream",
     "text": [
      "Today's date is 2018-05-26\n"
     ]
    }
   ],
   "source": [
    "# To get the todays date - use today(). So we will call the instance of this date object\n",
    "def main():\n",
    "    today = date.today()\n",
    "    print(\"Today's date is {}\".format(today))\n",
    "\n",
    "if __name__ == \"__main__\": main()\n"
   ]
  },
  {
   "cell_type": "code",
   "execution_count": 3,
   "metadata": {},
   "outputs": [
    {
     "name": "stdout",
     "output_type": "stream",
     "text": [
      "Day :: 26\n",
      "Month :: 5\n",
      "year :: 2018\n"
     ]
    }
   ],
   "source": [
    "# One can also get the individual components of the date\n",
    "today = date.today()\n",
    "print(f'Day :: {today.day}')\n",
    "print(f'Month :: {today.month}')\n",
    "print(f'year :: {today.year}')"
   ]
  },
  {
   "cell_type": "code",
   "execution_count": 4,
   "metadata": {},
   "outputs": [
    {
     "data": {
      "text/plain": [
       "5"
      ]
     },
     "execution_count": 4,
     "metadata": {},
     "output_type": "execute_result"
    }
   ],
   "source": [
    "# Sometimes it is important from analysis purpose to flag the weekends. One way to do so is by using the below function.\n",
    "today.weekday()"
   ]
  },
  {
   "cell_type": "markdown",
   "metadata": {},
   "source": [
    "## Below is the table matching the number with corresponding day.\n",
    "\n",
    "| DAY   |      WEEKDAY NUMBER \n",
    "|:----------|:-------------\n",
    "| Monday |  0 |\n",
    "| Tuesday |    1   |\n",
    "| Wednesday | 2 |\n",
    "| Thursday |  3 |\n",
    "| Friday |    4   |\n",
    "| Saturday | 5 |\n",
    "| Sunday | 6 |\n",
    "\n",
    "### We can also check for the time using datetime module. Following are the functions which are quite helpful.\n"
   ]
  },
  {
   "cell_type": "code",
   "execution_count": 5,
   "metadata": {},
   "outputs": [
    {
     "name": "stdout",
     "output_type": "stream",
     "text": [
      "The current date and time is 2018-05-26 12:22:43.591579.\n"
     ]
    }
   ],
   "source": [
    "def main():\n",
    "    today = datetime.now()\n",
    "    print(f'The current date and time is {today}.')\n",
    "\n",
    "if __name__ == \"__main__\":\n",
    "    main()"
   ]
  },
  {
   "cell_type": "code",
   "execution_count": 6,
   "metadata": {},
   "outputs": [
    {
     "name": "stdout",
     "output_type": "stream",
     "text": [
      "Current time is 12:25:01.057922\n"
     ]
    }
   ],
   "source": [
    "# You can also print the current time without the date\n",
    "t = datetime.time(datetime.now())\n",
    "print(f'Current time is {t}')"
   ]
  },
  {
   "cell_type": "code",
   "execution_count": 7,
   "metadata": {},
   "outputs": [
    {
     "name": "stdout",
     "output_type": "stream",
     "text": [
      "5\n"
     ]
    }
   ],
   "source": [
    "wd =  date.weekday(today)\n",
    "print(wd)\n"
   ]
  },
  {
   "cell_type": "markdown",
   "metadata": {},
   "source": [
    "As you notice that weekday() function returns a number between [0-6] to represent each day of the week. we will now learn how to extract the name of the day from the array list of week days name."
   ]
  },
  {
   "cell_type": "code",
   "execution_count": 9,
   "metadata": {},
   "outputs": [
    {
     "name": "stdout",
     "output_type": "stream",
     "text": [
      "Todays day in number is : 5\n",
      "Which is Saturday\n"
     ]
    }
   ],
   "source": [
    "def main():\n",
    "    wd = date.weekday(today)\n",
    "    days = [\"Monday\", \"Tuesday\", \"Wednesday\", \"Thurday\", \"Friday\", \"Saturday\", \"Sunday\"]\n",
    "    print(f'Todays day in number is : {wd}')\n",
    "    print(f'Which is {days[wd]}')\n",
    "\n",
    "if __name__ == \"__main__\":\n",
    "    main()"
   ]
  },
  {
   "cell_type": "markdown",
   "metadata": {},
   "source": [
    "### Let's advance a step further and lets learn how to use the formatting function to format Time and Date.\n",
    "## Format Date and Time Output with strftime()"
   ]
  },
  {
   "cell_type": "code",
   "execution_count": 10,
   "metadata": {},
   "outputs": [
    {
     "name": "stdout",
     "output_type": "stream",
     "text": [
      "2018\n",
      "18\n",
      "May\n",
      "May\n",
      "Sat\n",
      "Saturday\n",
      "26\n"
     ]
    }
   ],
   "source": [
    "from datetime import datetime\n",
    "def main():\n",
    "    now = datetime.now() # returns the current date and time\n",
    "    print(now.strftime(\"%Y\")) # full year with century - Like 2018\n",
    "    print(now.strftime(\"%y\")) # full year with century - Like 18\n",
    "    \n",
    "    print(now.strftime(\"%b\")) # name of the month - like May\n",
    "    print(now.strftime(\"%B\")) # name of the month - like september\n",
    "    \n",
    "    print(now.strftime(\"%a\")) # name of the weekday - like Fri\n",
    "    print(now.strftime(\"%A\")) # name of the weekday - like Friday\n",
    "    \n",
    "    print(now.strftime(\"%d\")) # date of the month\n",
    "    \n",
    "    #### Date formatting ####\n",
    "    # %y/%Y - Year, %a/%A - Weekday, %b/%B - month, %d - day of the month\n",
    "\n",
    "if __name__ == \"__main__\":\n",
    "    main()"
   ]
  },
  {
   "cell_type": "code",
   "execution_count": 13,
   "metadata": {},
   "outputs": [
    {
     "name": "stdout",
     "output_type": "stream",
     "text": [
      "Saturday, 26: May, 18\n"
     ]
    }
   ],
   "source": [
    "def main():\n",
    "    now = datetime.now()\n",
    "    print(now.strftime(\"%A, %d: %B, %y\"))\n",
    "if __name__ == \"__main__\":\n",
    "    main()"
   ]
  },
  {
   "cell_type": "markdown",
   "metadata": {},
   "source": [
    "#### One can also retrive local system time, date or both with the strftime() function.\n",
    "1. %c- indicates the local date and time\n",
    "2. %x- indicates the local date\n",
    "3. %X- indicates the local time\n",
    "\n",
    "Also just by defining control code like %I/H for hour, % M for minute, %S for second, one can call time for different formats. "
   ]
  },
  {
   "cell_type": "code",
   "execution_count": 14,
   "metadata": {},
   "outputs": [
    {
     "name": "stdout",
     "output_type": "stream",
     "text": [
      "2018-05-26 12:35:32.494822\n",
      "Sat May 26 12:35:32 2018\n",
      "05/26/18\n",
      "12:35:32\n"
     ]
    }
   ],
   "source": [
    "now =  datetime.now()\n",
    "print(now)\n",
    "\n",
    "print(now.strftime(\"%c\"))\n",
    "print(now.strftime(\"%x\"))\n",
    "print(now.strftime(\"%X\"))"
   ]
  },
  {
   "cell_type": "code",
   "execution_count": 15,
   "metadata": {},
   "outputs": [
    {
     "name": "stdout",
     "output_type": "stream",
     "text": [
      "12:36:45 PM\n",
      "12:36\n"
     ]
    }
   ],
   "source": [
    "from datetime import datetime\n",
    "def main():\n",
    "    now= datetime.now() #get the current date and time\n",
    "      \n",
    "##### Time Formatting ####\n",
    "    #%I/%H - 12/24 Hour, %M - minute, %S - second, %p - local's AM/PM\n",
    "    print(now.strftime(\"%I:%M:%S %p\")) # 12-Hour:Minute:Second:AM\n",
    "    print(now.strftime(\"%H:%M\")) # 24-Hour:Minute\n",
    "\n",
    "if __name__== \"__main__\":\n",
    "    main()"
   ]
  },
  {
   "cell_type": "markdown",
   "metadata": {},
   "source": [
    "### Using Timedelta Objects\n",
    "With timedelta objects, you can estimate the time for both future and the past. In other words, it is a timespan to predict any special day, date or time. \n",
    "Remember this function is not for printing out the time or date, but something to CALCULATE about the future or past. Let's see an example to understand it better."
   ]
  },
  {
   "cell_type": "code",
   "execution_count": 27,
   "metadata": {},
   "outputs": [
    {
     "name": "stdout",
     "output_type": "stream",
     "text": [
      "365 days, 8:15:00\n",
      "today is: 2018-05-26 12:44:46.908049\n",
      "one year from now it will be:2019-05-26 12:44:46.908049\n",
      "New Year day is already went by 145 days ago\n"
     ]
    }
   ],
   "source": [
    "from datetime import timedelta\n",
    "\n",
    "# construct a basic timedelta and print it\n",
    "print (timedelta(days=365, hours=8, minutes=15))\n",
    "\n",
    "# print today's date\n",
    "print (\"today is: \" + str(datetime.now()))\n",
    "\n",
    "# print today's date one year from now\n",
    "print (\"one year from now it will be:\" + str(datetime.now() + timedelta(days=365)))\n",
    "\n",
    "\n",
    "# create a timedelta that uses more than one argument\n",
    "# print (in one week and 4 days it will be \" + str(datetime.now() + timedelta(weeks=1, days=4)))\n",
    "\n",
    "# How many days until New Year's Day?\n",
    "today = date.today()  # get todays date\n",
    "\n",
    "nyd = date(today.year, 1, 1)  # get New Year Day for the same year\n",
    "\n",
    "# use date comparison to see if New Year Day has already gone for this year\n",
    "# if it has, use the replace() function to get the date for next year\n",
    "\n",
    "if nyd < today:\n",
    "    print (\"New Year day is already went by %d days ago\" % ((today - nyd).days))"
   ]
  },
  {
   "cell_type": "code",
   "execution_count": 26,
   "metadata": {},
   "outputs": [
    {
     "name": "stdout",
     "output_type": "stream",
     "text": [
      "0\n"
     ]
    }
   ],
   "source": [
    "print((today - nyd).seconds)"
   ]
  },
  {
   "cell_type": "code",
   "execution_count": null,
   "metadata": {
    "collapsed": true
   },
   "outputs": [],
   "source": []
  }
 ],
 "metadata": {
  "kernelspec": {
   "display_name": "Python [default]",
   "language": "python",
   "name": "python3"
  },
  "language_info": {
   "codemirror_mode": {
    "name": "ipython",
    "version": 3
   },
   "file_extension": ".py",
   "mimetype": "text/x-python",
   "name": "python",
   "nbconvert_exporter": "python",
   "pygments_lexer": "ipython3",
   "version": "3.6.1"
  }
 },
 "nbformat": 4,
 "nbformat_minor": 2
}
