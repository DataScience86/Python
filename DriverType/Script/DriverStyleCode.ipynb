{
 "cells": [
  {
   "cell_type": "code",
   "execution_count": 6,
   "metadata": {
    "collapsed": true
   },
   "outputs": [],
   "source": [
    "# Importing desired modles\n",
    "import pandas as pd\n",
    "import numpy as np\n",
    "from numpy import inf\n",
    "import datetime\n",
    "import seaborn as sns\n",
    "import matplotlib.pyplot as plt\n",
    "%matplotlib inline"
   ]
  },
  {
   "cell_type": "code",
   "execution_count": 6,
   "metadata": {
    "collapsed": true
   },
   "outputs": [],
   "source": [
    "# Reading all the three rawdata files \n",
    "rawdata = pd.read_csv(\"Train.csv\")\n",
    "traveldata = pd.read_csv(\"Train_Vehicletravellingdata.csv\", index_col= None)\n",
    "weatherdata = pd.read_csv(\"Train_WeatherData.csv\")"
   ]
  },
  {
   "cell_type": "code",
   "execution_count": 7,
   "metadata": {},
   "outputs": [
    {
     "name": "stdout",
     "output_type": "stream",
     "text": [
      "The rawdata has 12994 rows and  5 columns\n",
      "The traveldata has 162566 rows and  10 columns\n",
      "The weatherdata has 162566 rows and  9 columns\n"
     ]
    }
   ],
   "source": [
    "# Understanding the data dimensions\n",
    "print(\"The rawdata has {} rows and  {} columns\".format(rawdata.shape[0], rawdata.shape[1]))\n",
    "print(\"The traveldata has {} rows and  {} columns\".format(traveldata.shape[0], traveldata.shape[1]))\n",
    "print(\"The weatherdata has {} rows and  {} columns\".format(weatherdata.shape[0], weatherdata.shape[1]))"
   ]
  },
  {
   "cell_type": "code",
   "execution_count": 414,
   "metadata": {},
   "outputs": [
    {
     "data": {
      "text/html": [
       "<div>\n",
       "<style>\n",
       "    .dataframe thead tr:only-child th {\n",
       "        text-align: right;\n",
       "    }\n",
       "\n",
       "    .dataframe thead th {\n",
       "        text-align: left;\n",
       "    }\n",
       "\n",
       "    .dataframe tbody tr th {\n",
       "        vertical-align: top;\n",
       "    }\n",
       "</style>\n",
       "<table border=\"1\" class=\"dataframe\">\n",
       "  <thead>\n",
       "    <tr style=\"text-align: right;\">\n",
       "      <th></th>\n",
       "      <th>ID</th>\n",
       "      <th>V2</th>\n",
       "      <th>V5</th>\n",
       "      <th>V6</th>\n",
       "      <th>DrivingStyle</th>\n",
       "    </tr>\n",
       "  </thead>\n",
       "  <tbody>\n",
       "    <tr>\n",
       "      <th>0</th>\n",
       "      <td>DR_24526</td>\n",
       "      <td>1265</td>\n",
       "      <td>10243</td>\n",
       "      <td>2</td>\n",
       "      <td>2</td>\n",
       "    </tr>\n",
       "    <tr>\n",
       "      <th>1</th>\n",
       "      <td>DR_30052</td>\n",
       "      <td>1680</td>\n",
       "      <td>30871</td>\n",
       "      <td>6</td>\n",
       "      <td>2</td>\n",
       "    </tr>\n",
       "    <tr>\n",
       "      <th>2</th>\n",
       "      <td>DR_40928</td>\n",
       "      <td>936</td>\n",
       "      <td>3224</td>\n",
       "      <td>4</td>\n",
       "      <td>2</td>\n",
       "    </tr>\n",
       "    <tr>\n",
       "      <th>3</th>\n",
       "      <td>DR_66033</td>\n",
       "      <td>1503</td>\n",
       "      <td>3315</td>\n",
       "      <td>4</td>\n",
       "      <td>2</td>\n",
       "    </tr>\n",
       "    <tr>\n",
       "      <th>4</th>\n",
       "      <td>DR_45266</td>\n",
       "      <td>929</td>\n",
       "      <td>3022</td>\n",
       "      <td>4</td>\n",
       "      <td>2</td>\n",
       "    </tr>\n",
       "  </tbody>\n",
       "</table>\n",
       "</div>"
      ],
      "text/plain": [
       "         ID    V2     V5  V6  DrivingStyle\n",
       "0  DR_24526  1265  10243   2             2\n",
       "1  DR_30052  1680  30871   6             2\n",
       "2  DR_40928   936   3224   4             2\n",
       "3  DR_66033  1503   3315   4             2\n",
       "4  DR_45266   929   3022   4             2"
      ]
     },
     "execution_count": 414,
     "metadata": {},
     "output_type": "execute_result"
    }
   ],
   "source": [
    "# Exploring rawdata further\n",
    "rawdata.head()"
   ]
  },
  {
   "cell_type": "markdown",
   "metadata": {},
   "source": [
    "The above dataset which has five variables Driving Style is the one which we wish to predict. The ID variable is a unique variable and is going to be the key variable in concatinating this dataset with the other two datasets. The other variables are explained below:\n",
    "\n",
    "- V2: Length of vehicle in cm\n",
    "- V5: weight of vehicle in kg\n",
    "- V6: Number of axles\n",
    "\n",
    "We will use this information and update the column names."
   ]
  },
  {
   "cell_type": "code",
   "execution_count": 415,
   "metadata": {},
   "outputs": [
    {
     "data": {
      "text/plain": [
       "2    49.4\n",
       "3    29.2\n",
       "1    21.3\n",
       "Name: DrivingStyle, dtype: float64"
      ]
     },
     "execution_count": 415,
     "metadata": {},
     "output_type": "execute_result"
    },
    {
     "data": {
      "image/png": "[encoded data removed]",
      "text/plain": [
       "<matplotlib.figure.Figure at 0x1bdab2d6f60>"
      ]
     },
     "metadata": {},
     "output_type": "display_data"
    }
   ],
   "source": [
    "# Upadting the column names \n",
    "rawdata.columns = ['ID', 'VehicleLength(cm)', 'VehicleWeight(kg)', 'NumAxles', 'DrivingStyle']\n",
    "\n",
    "# Barplot showcasing the frequency chart for Driving Style\n",
    "rawdata['DrivingStyle'].value_counts().plot('bar').set_xticklabels( ('Normal', 'Vague','Aggresive') )\n",
    "\n",
    "# Frequency table \n",
    "round(rawdata['DrivingStyle'].value_counts()/rawdata.shape[0] * 100, 1)"
   ]
  },
  {
   "cell_type": "code",
   "execution_count": 29,
   "metadata": {},
   "outputs": [
    {
     "data": {
      "text/plain": [
       "<matplotlib.axes._subplots.AxesSubplot at 0x1bda0f9e668>"
      ]
     },
     "execution_count": 29,
     "metadata": {},
     "output_type": "execute_result"
    },
    {
     "data": {
      "image/png": "[encoded data removed]",
      "text/plain": [
       "<matplotlib.figure.Figure at 0x1bda0ead588>"
      ]
     },
     "metadata": {},
     "output_type": "display_data"
    },
    {
     "data": {
      "image/png": "[encoded data removed]",
      "text/plain": [
       "<matplotlib.figure.Figure at 0x1bda0ead400>"
      ]
     },
     "metadata": {},
     "output_type": "display_data"
    }
   ],
   "source": [
    "# Checking the distribution of vehicle length and weight across different driving styles. \n",
    "rawdata.boxplot(column =  [\"VehicleLength(cm)\"], by = \"DrivingStyle\", figsize=(12, 6))\n",
    "rawdata.boxplot(column =  [\"VehicleWeight(kg)\"], by = \"DrivingStyle\", figsize=(12, 6))"
   ]
  },
  {
   "cell_type": "code",
   "execution_count": 33,
   "metadata": {},
   "outputs": [
    {
     "data": {
      "text/plain": [
       "array([[<matplotlib.axes._subplots.AxesSubplot object at 0x000001BDA168FDA0>,\n",
       "        <matplotlib.axes._subplots.AxesSubplot object at 0x000001BDA432AEB8>],\n",
       "       [<matplotlib.axes._subplots.AxesSubplot object at 0x000001BDA12A1EB8>,\n",
       "        <matplotlib.axes._subplots.AxesSubplot object at 0x000001BDA0F3B1D0>]],\n",
       "      dtype=object)"
      ]
     },
     "execution_count": 33,
     "metadata": {},
     "output_type": "execute_result"
    },
    {
     "data": {
      "image/png": "[encoded data removed]",
      "text/plain": [
       "<matplotlib.figure.Figure at 0x1bda11f9da0>"
      ]
     },
     "metadata": {},
     "output_type": "display_data"
    }
   ],
   "source": [
    "rawdata['VehicleLength(cm)'].hist(by=rawdata['DrivingStyle'], figsize=[12,6], alpha =.7)"
   ]
  },
  {
   "cell_type": "code",
   "execution_count": 54,
   "metadata": {},
   "outputs": [
    {
     "name": "stderr",
     "output_type": "stream",
     "text": [
      "C:\\Users\\datas\\Anaconda3\\lib\\site-packages\\ipykernel\\__main__.py:93: SettingWithCopyWarning: \n",
      "A value is trying to be set on a copy of a slice from a DataFrame\n",
      "\n",
      "See the caveats in the documentation: http://pandas.pydata.org/pandas-docs/stable/indexing.html#indexing-view-versus-copy\n"
     ]
    }
   ],
   "source": [
    "# Creating a bunch of new variables form the existing variables in traveldata\n",
    "unique_id = traveldata['ID'].unique()\n",
    "pd.to_datetime(traveldata['V1'])\n",
    "\n",
    "ID = []\n",
    "SwitchCount = []\n",
    "TotalJourneyTime = []\n",
    "RateOfSwitch = []\n",
    "AvgSpeed = []\n",
    "MaxSpeed = []\n",
    "\n",
    "AvgSpeedPrecedingVehicle = []\n",
    "MaxSpeedPrecedingVehicle = []\n",
    "\n",
    "AvgTimeGapPreceding =[]\n",
    "MaxTimeGapPreceding =[]\n",
    "MinTimeGapPreceding =[]\n",
    "MedianTimeGapPreceding =[]\n",
    "\n",
    "AvgLengthvehiclePreceding =[]\n",
    "MaxLengthvehiclePreceding =[]\n",
    "MinLengthvehiclePreceding =[]\n",
    "MedianLengthvehiclePreceding =[]\n",
    "\n",
    "AvgWeightvehiclePreceding =[]\n",
    "MaxWeightvehiclePreceding =[]\n",
    "MinWeightvehiclePreceding =[]\n",
    "MedianWeightvehiclePreceding =[]\n",
    "\n",
    "RoadCondition = []\n",
    "\n",
    "for i in unique_id:\n",
    "    ID.append(i)\n",
    "    dfTemp = traveldata[traveldata.ID == i]\n",
    "    \n",
    "    JourneyTime = pd.to_datetime(dfTemp.V1.iloc[dfTemp.shape[0]-1]) - pd.to_datetime(dfTemp.V1.iloc[0])\n",
    "    TotalJourneyTime.append(JourneyTime)\n",
    "    \n",
    "    AvgSpeed.append(round(dfTemp.V4.mean(),0))\n",
    "    MaxSpeed.append(round(dfTemp.V4.max(),0))\n",
    "    \n",
    "    AvgSpeedPrecedingVehicle.append(round(dfTemp.V8.mean(),0))\n",
    "    MaxSpeedPrecedingVehicle.append(round(dfTemp.V8.max(),0))\n",
    "    \n",
    "    AvgTimeGapPreceding.append(round(dfTemp.V11.mean(),0))\n",
    "    MaxTimeGapPreceding.append(round(dfTemp.V11.max(),0))    \n",
    "    MinTimeGapPreceding.append(round(dfTemp.V11.min(),0))\n",
    "    MedianTimeGapPreceding.append(round(dfTemp.V11.median(),0))\n",
    "    \n",
    "    AvgLengthvehiclePreceding.append(round(dfTemp.V10.mean(),0))\n",
    "    MaxLengthvehiclePreceding.append(round(dfTemp.V10.max(),0))    \n",
    "    MinLengthvehiclePreceding.append(round(dfTemp.V10.min(),0))\n",
    "    MedianLengthvehiclePreceding.append(round(dfTemp.V10.median(),0))\n",
    "    \n",
    "    AvgWeightvehiclePreceding.append(round(dfTemp.V9.mean(),0))\n",
    "    MaxWeightvehiclePreceding.append(round(dfTemp.V9.max(),0))    \n",
    "    MinWeightvehiclePreceding.append(round(dfTemp.V9.min(),0))\n",
    "    MedianWeightvehiclePreceding.append(round(dfTemp.V9.median(),0))\n",
    "    \n",
    "    RoadCondition.append(dfTemp.V18.iloc[0])\n",
    "    \n",
    "    switch_count = 0\n",
    "    lane = dfTemp[\"V3\"]\n",
    "    currentValue = []\n",
    "    nextValue = []\n",
    "    for j in range(0, len(lane)-1):\n",
    "        if j < len(lane):\n",
    "            #print(j)\n",
    "            currentValue =  dfTemp.V3.iloc[j]\n",
    "            nextValue = dfTemp.V3.iloc[j+1]\n",
    "            if nextValue != currentValue:\n",
    "                switch_count = switch_count + 1    \n",
    "    SwitchCount.append(switch_count)\n",
    "    \n",
    "SwitchCountDF = pd.DataFrame({'ID':ID, 'TotalSwitches': SwitchCount, 'TotalJourneyTime': TotalJourneyTime, \n",
    "                              'AvgSpeed':AvgSpeed, 'MaxSpeed': MaxSpeed, 'AvgSpeedPrecedingVehicle':AvgSpeedPrecedingVehicle, 'MaxSpeedPrecedingVehicle': MaxSpeedPrecedingVehicle,\n",
    "                              'AvgTimeGapPreceding': AvgTimeGapPreceding, 'MaxTimeGapPreceding': MaxTimeGapPreceding,\n",
    "                              'MinTimeGapPreceding': MinTimeGapPreceding, 'MedianTimeGapPreceding':MedianTimeGapPreceding,\n",
    "                              'AvgLengthvehiclePreceding': AvgLengthvehiclePreceding, 'MaxLengthvehiclePreceding': MaxLengthvehiclePreceding, \n",
    "                              'MinLengthvehiclePreceding': MinLengthvehiclePreceding, 'MedianLengthvehiclePreceding': MedianLengthvehiclePreceding,\n",
    "                              'AvgWeightvehiclePreceding': AvgWeightvehiclePreceding, 'MaxWeightvehiclePreceding': MaxWeightvehiclePreceding,\n",
    "                              'MinWeightvehiclePreceding': MinWeightvehiclePreceding, 'MedianWeightvehiclePreceding': MedianWeightvehiclePreceding,\n",
    "                              'RoadCondition': RoadCondition}, columns = ['ID', 'TotalSwitches', 'TotalJourneyTime', 'AvgSpeed', 'MaxSpeed', \n",
    "                                         'AvgSpeedPrecedingVehicle', 'MaxSpeedPrecedingVehicle', 'AvgTimeGapPreceding', \n",
    "                                         'MaxTimeGapPreceding', 'MinTimeGapPreceding', 'MedianTimeGapPreceding',\n",
    "                                         'AvgLengthvehiclePreceding', 'MaxLengthvehiclePreceding', 'MinLengthvehiclePreceding', \n",
    "                                         'MedianLengthvehiclePreceding', 'AvgWeightvehiclePreceding', 'MaxWeightvehiclePreceding',\n",
    "                                         'MinWeightvehiclePreceding', 'MedianWeightvehiclePreceding', 'RoadCondition']\n",
    "                             )\n",
    "\n",
    "SwitchCountDF['TotalJourneyTime'] = SwitchCountDF['TotalJourneyTime'].astype('timedelta64[m]')\n",
    "SwitchCountDF['RateOfSwitch'] = round(SwitchCountDF['TotalSwitches']/SwitchCountDF['TotalJourneyTime'],2)\n",
    "SwitchCountDF['RateOfSwitch'][SwitchCountDF['RateOfSwitch'] == -inf] = 0"
   ]
  },
  {
   "cell_type": "code",
   "execution_count": 55,
   "metadata": {},
   "outputs": [
    {
     "name": "stdout",
     "output_type": "stream",
     "text": [
      "Total number of missing values are 294; Which is 2.26% of the whole data\n"
     ]
    }
   ],
   "source": [
    "# Converting the V1 to datetime variable and extracting weekday or weekend information\n",
    "weatherdata['V1'] = pd.to_datetime(weatherdata['V1'])\n",
    "weatherdata['just_date'] = weatherdata['V1'].dt.date\n",
    "weatherdata['Weekday'] = weatherdata['just_date'].apply(lambda x: x.weekday())\n",
    "\n",
    "# Checking for the rows which have missing values\n",
    "null_data = weatherdata[weatherdata.isnull().any(axis=1)]\n",
    "print(\"Total number of missing values are {}; Which is {}% of the whole data\".format(len(null_data.ID.unique()), round((len(null_data.ID.unique())/SwitchCountDF.shape[0])*100, 2)))\n"
   ]
  },
  {
   "cell_type": "code",
   "execution_count": 392,
   "metadata": {
    "collapsed": true
   },
   "outputs": [],
   "source": [
    "# Working on weather dataset to extract feature information for each driver ID\n",
    "ID = []\n",
    "AirTemp = []\n",
    "Precipitation = []\n",
    "PrecipitationIntensity = []\n",
    "RelHumidity = []\n",
    "WindDirection = []\n",
    "WindSpeed = []\n",
    "Weekday = []\n",
    "for i in unique_id:\n",
    "    dfTemp = weatherdata[weatherdata.ID == i]\n",
    "    if dfTemp.shape[0] != 0:\n",
    "        ID.append(i)    \n",
    "        AirTemp.append(Counter(dfTemp['V12']).most_common(1)[0][0])\n",
    "        Precipitation.append(Counter(dfTemp['V13']).most_common(1)[0][0])\n",
    "        PrecipitationIntensity.append(Counter(dfTemp['V14']).most_common(1)[0][0])\n",
    "        RelHumidity.append(Counter(dfTemp['V15']).most_common(1)[0][0])\n",
    "        WindDirection.append(Counter(dfTemp['V16']).most_common(1)[0][0])\n",
    "        WindSpeed.append(Counter(dfTemp['V17']).most_common(1)[0][0])    \n",
    "        Weekday.append(dfTemp.Weekday.iloc[0])\n",
    "    \n",
    "weatherFinal = pd.DataFrame({'ID': ID, 'AirTemp': AirTemp, 'Precipitation': Precipitation, \n",
    "                             'PrecipitationIntensity': PrecipitationIntensity, 'RelHumidity': RelHumidity,\n",
    "                             'WindDirection': WindDirection, 'WindSpeed': WindSpeed, 'Weekday': Weekday },\n",
    "                            columns = ['ID','AirTemp', 'Precipitation', 'PrecipitationIntensity', 'RelHumidity',\n",
    "                             'WindDirection', 'WindSpeed', 'Weekday'])\n",
    "\n",
    "weatherFinal['PrecipitationIntensity'] = weatherFinal['PrecipitationIntensity'].apply(lambda x: \"Missing\" if x == \" \" else x)"
   ]
  },
  {
   "cell_type": "code",
   "execution_count": 442,
   "metadata": {
    "collapsed": true
   },
   "outputs": [],
   "source": [
    "# Saving the Vehicle and weather datasets\n",
    "weatherFinal.to_csv(\"weatherFinal.csv\", index= False)\n",
    "SwitchCountDF.to_csv(\"travelDataFinal.csv\", index = False)"
   ]
  },
  {
   "cell_type": "code",
   "execution_count": 526,
   "metadata": {
    "collapsed": true
   },
   "outputs": [],
   "source": [
    "# Merging the three datasets\n",
    "finalRawData= SwitchCountDF.merge(weatherFinal, on = \"ID\")\n",
    "finalRawData = finalRawData.merge(rawdata, on = \"ID\")"
   ]
  },
  {
   "cell_type": "code",
   "execution_count": 527,
   "metadata": {},
   "outputs": [
    {
     "name": "stdout",
     "output_type": "stream",
     "text": [
      "Final Data Dimensions: (12847, 28)\n"
     ]
    },
    {
     "data": {
      "text/plain": [
       "Index(['ID', 'TotalSwitches', 'TotalJourneyTime', 'AvgSpeed', 'MaxSpeed',\n",
       "       'AvgSpeedPrecedingVehicle', 'MaxSpeedPrecedingVehicle',\n",
       "       'AvgTimeGapPreceding', 'MaxTimeGapPreceding', 'MinTimeGapPreceding',\n",
       "       'MedianTimeGapPreceding', 'AvgLengthvehiclePreceding',\n",
       "       'MaxLengthvehiclePreceding', 'MinLengthvehiclePreceding',\n",
       "       'MedianLengthvehiclePreceding', 'AvgWeightvehiclePreceding',\n",
       "       'MaxWeightvehiclePreceding', 'MinWeightvehiclePreceding',\n",
       "       'MedianWeightvehiclePreceding', 'RoadCondition', 'RateOfSwitch',\n",
       "       'AirTemp', 'Precipitation', 'PrecipitationIntensity', 'RelHumidity',\n",
       "       'WindDirection', 'WindSpeed', 'Weekday'],\n",
       "      dtype='object')"
      ]
     },
     "execution_count": 527,
     "metadata": {},
     "output_type": "execute_result"
    }
   ],
   "source": [
    "print(\"Final Data Dimensions: {}\".format(finalRawData.shape))\n",
    "finalRawData.columns"
   ]
  },
  {
   "cell_type": "code",
   "execution_count": 35,
   "metadata": {
    "collapsed": true
   },
   "outputs": [],
   "source": [
    "# Saving the final dataset\n",
    "# finalRawData.to_csv(\"finalRawData.csv\", index = False)\n",
    "finalRawData = pd.read_csv(\"finalRawData.csv\")\n",
    "# finalRawData['RateOfSwitch'][finalRawData['RateOfSwitch'] == inf] = 0\n",
    "\n",
    "finalRawData[\"DrivingStyle\"] = finalRawData[\"DrivingStyle\"].apply(lambda x: 1 if x == 1 else 0)"
   ]
  },
  {
   "cell_type": "code",
   "execution_count": 36,
   "metadata": {},
   "outputs": [
    {
     "data": {
      "text/html": [
       "<div>\n",
       "<style>\n",
       "    .dataframe thead tr:only-child th {\n",
       "        text-align: right;\n",
       "    }\n",
       "\n",
       "    .dataframe thead th {\n",
       "        text-align: left;\n",
       "    }\n",
       "\n",
       "    .dataframe tbody tr th {\n",
       "        vertical-align: top;\n",
       "    }\n",
       "</style>\n",
       "<table border=\"1\" class=\"dataframe\">\n",
       "  <thead>\n",
       "    <tr style=\"text-align: right;\">\n",
       "      <th></th>\n",
       "      <th>TotalSwitches</th>\n",
       "      <th>TotalJourneyTime</th>\n",
       "      <th>AvgSpeed</th>\n",
       "      <th>MaxSpeed</th>\n",
       "      <th>AvgSpeedPrecedingVehicle</th>\n",
       "      <th>MaxSpeedPrecedingVehicle</th>\n",
       "      <th>AvgTimeGapPreceding</th>\n",
       "      <th>MaxTimeGapPreceding</th>\n",
       "      <th>MinTimeGapPreceding</th>\n",
       "      <th>MedianTimeGapPreceding</th>\n",
       "      <th>...</th>\n",
       "      <th>MaxWeightvehiclePreceding</th>\n",
       "      <th>MinWeightvehiclePreceding</th>\n",
       "      <th>MedianWeightvehiclePreceding</th>\n",
       "      <th>RateOfSwitch</th>\n",
       "      <th>AirTemp</th>\n",
       "      <th>RelHumidity</th>\n",
       "      <th>WindDirection</th>\n",
       "      <th>WindSpeed</th>\n",
       "      <th>VehicleLength(cm)</th>\n",
       "      <th>VehicleWeight(kg)</th>\n",
       "    </tr>\n",
       "  </thead>\n",
       "  <tbody>\n",
       "    <tr>\n",
       "      <th>count</th>\n",
       "      <td>12657.000000</td>\n",
       "      <td>12657.000000</td>\n",
       "      <td>12657.000000</td>\n",
       "      <td>12657.000000</td>\n",
       "      <td>12657.000000</td>\n",
       "      <td>12657.000000</td>\n",
       "      <td>12657.000000</td>\n",
       "      <td>12657.000000</td>\n",
       "      <td>12657.000000</td>\n",
       "      <td>12657.000000</td>\n",
       "      <td>...</td>\n",
       "      <td>12657.000000</td>\n",
       "      <td>12657.000000</td>\n",
       "      <td>12657.000000</td>\n",
       "      <td>12657.000000</td>\n",
       "      <td>12657.000000</td>\n",
       "      <td>12657.000000</td>\n",
       "      <td>12657.000000</td>\n",
       "      <td>12657.000000</td>\n",
       "      <td>12657.000000</td>\n",
       "      <td>12657.000000</td>\n",
       "    </tr>\n",
       "    <tr>\n",
       "      <th>mean</th>\n",
       "      <td>4.451134</td>\n",
       "      <td>8.671565</td>\n",
       "      <td>83.718970</td>\n",
       "      <td>97.416923</td>\n",
       "      <td>83.739038</td>\n",
       "      <td>97.429644</td>\n",
       "      <td>207.472387</td>\n",
       "      <td>495.494272</td>\n",
       "      <td>63.305523</td>\n",
       "      <td>170.842459</td>\n",
       "      <td>...</td>\n",
       "      <td>18567.091254</td>\n",
       "      <td>1499.388165</td>\n",
       "      <td>3992.661847</td>\n",
       "      <td>0.540684</td>\n",
       "      <td>4.555424</td>\n",
       "      <td>62.290037</td>\n",
       "      <td>179.833215</td>\n",
       "      <td>4.255748</td>\n",
       "      <td>1024.774433</td>\n",
       "      <td>8064.355376</td>\n",
       "    </tr>\n",
       "    <tr>\n",
       "      <th>std</th>\n",
       "      <td>3.956084</td>\n",
       "      <td>30.841301</td>\n",
       "      <td>5.662169</td>\n",
       "      <td>10.397439</td>\n",
       "      <td>5.615351</td>\n",
       "      <td>10.384553</td>\n",
       "      <td>215.625538</td>\n",
       "      <td>319.305080</td>\n",
       "      <td>164.957570</td>\n",
       "      <td>225.010717</td>\n",
       "      <td>...</td>\n",
       "      <td>10878.766947</td>\n",
       "      <td>2271.604988</td>\n",
       "      <td>4790.190582</td>\n",
       "      <td>0.434184</td>\n",
       "      <td>3.258503</td>\n",
       "      <td>18.380075</td>\n",
       "      <td>82.745508</td>\n",
       "      <td>2.997064</td>\n",
       "      <td>562.153993</td>\n",
       "      <td>8974.443098</td>\n",
       "    </tr>\n",
       "    <tr>\n",
       "      <th>min</th>\n",
       "      <td>0.000000</td>\n",
       "      <td>0.000000</td>\n",
       "      <td>44.000000</td>\n",
       "      <td>45.000000</td>\n",
       "      <td>42.000000</td>\n",
       "      <td>42.000000</td>\n",
       "      <td>3.000000</td>\n",
       "      <td>3.000000</td>\n",
       "      <td>1.000000</td>\n",
       "      <td>2.000000</td>\n",
       "      <td>...</td>\n",
       "      <td>435.000000</td>\n",
       "      <td>3.000000</td>\n",
       "      <td>345.000000</td>\n",
       "      <td>0.000000</td>\n",
       "      <td>-13.000000</td>\n",
       "      <td>16.000000</td>\n",
       "      <td>6.000000</td>\n",
       "      <td>0.000000</td>\n",
       "      <td>155.000000</td>\n",
       "      <td>44.000000</td>\n",
       "    </tr>\n",
       "    <tr>\n",
       "      <th>25%</th>\n",
       "      <td>1.000000</td>\n",
       "      <td>7.000000</td>\n",
       "      <td>81.000000</td>\n",
       "      <td>90.000000</td>\n",
       "      <td>81.000000</td>\n",
       "      <td>90.000000</td>\n",
       "      <td>78.000000</td>\n",
       "      <td>278.000000</td>\n",
       "      <td>1.000000</td>\n",
       "      <td>42.000000</td>\n",
       "      <td>...</td>\n",
       "      <td>10103.000000</td>\n",
       "      <td>830.000000</td>\n",
       "      <td>1698.000000</td>\n",
       "      <td>0.220000</td>\n",
       "      <td>2.000000</td>\n",
       "      <td>48.000000</td>\n",
       "      <td>152.000000</td>\n",
       "      <td>2.000000</td>\n",
       "      <td>561.000000</td>\n",
       "      <td>1734.000000</td>\n",
       "    </tr>\n",
       "    <tr>\n",
       "      <th>50%</th>\n",
       "      <td>4.000000</td>\n",
       "      <td>9.000000</td>\n",
       "      <td>84.000000</td>\n",
       "      <td>97.000000</td>\n",
       "      <td>84.000000</td>\n",
       "      <td>97.000000</td>\n",
       "      <td>127.000000</td>\n",
       "      <td>396.000000</td>\n",
       "      <td>3.000000</td>\n",
       "      <td>86.000000</td>\n",
       "      <td>...</td>\n",
       "      <td>20265.000000</td>\n",
       "      <td>1148.000000</td>\n",
       "      <td>1956.000000</td>\n",
       "      <td>0.500000</td>\n",
       "      <td>5.000000</td>\n",
       "      <td>59.000000</td>\n",
       "      <td>180.000000</td>\n",
       "      <td>4.000000</td>\n",
       "      <td>634.000000</td>\n",
       "      <td>2385.000000</td>\n",
       "    </tr>\n",
       "    <tr>\n",
       "      <th>75%</th>\n",
       "      <td>6.000000</td>\n",
       "      <td>10.000000</td>\n",
       "      <td>87.000000</td>\n",
       "      <td>103.000000</td>\n",
       "      <td>87.000000</td>\n",
       "      <td>103.000000</td>\n",
       "      <td>248.000000</td>\n",
       "      <td>611.000000</td>\n",
       "      <td>31.000000</td>\n",
       "      <td>194.000000</td>\n",
       "      <td>...</td>\n",
       "      <td>26433.000000</td>\n",
       "      <td>1453.000000</td>\n",
       "      <td>2673.000000</td>\n",
       "      <td>0.780000</td>\n",
       "      <td>7.000000</td>\n",
       "      <td>78.000000</td>\n",
       "      <td>203.000000</td>\n",
       "      <td>7.000000</td>\n",
       "      <td>1694.000000</td>\n",
       "      <td>14352.000000</td>\n",
       "    </tr>\n",
       "    <tr>\n",
       "      <th>max</th>\n",
       "      <td>30.000000</td>\n",
       "      <td>3361.000000</td>\n",
       "      <td>130.000000</td>\n",
       "      <td>161.000000</td>\n",
       "      <td>120.000000</td>\n",
       "      <td>161.000000</td>\n",
       "      <td>1642.000000</td>\n",
       "      <td>1797.000000</td>\n",
       "      <td>1642.000000</td>\n",
       "      <td>1642.000000</td>\n",
       "      <td>...</td>\n",
       "      <td>69548.000000</td>\n",
       "      <td>29569.000000</td>\n",
       "      <td>33469.000000</td>\n",
       "      <td>8.000000</td>\n",
       "      <td>23.000000</td>\n",
       "      <td>97.000000</td>\n",
       "      <td>360.000000</td>\n",
       "      <td>14.000000</td>\n",
       "      <td>2337.000000</td>\n",
       "      <td>57230.000000</td>\n",
       "    </tr>\n",
       "  </tbody>\n",
       "</table>\n",
       "<p>8 rows × 25 columns</p>\n",
       "</div>"
      ],
      "text/plain": [
       "       TotalSwitches  TotalJourneyTime      AvgSpeed      MaxSpeed  \\\n",
       "count   12657.000000      12657.000000  12657.000000  12657.000000   \n",
       "mean        4.451134          8.671565     83.718970     97.416923   \n",
       "std         3.956084         30.841301      5.662169     10.397439   \n",
       "min         0.000000          0.000000     44.000000     45.000000   \n",
       "25%         1.000000          7.000000     81.000000     90.000000   \n",
       "50%         4.000000          9.000000     84.000000     97.000000   \n",
       "75%         6.000000         10.000000     87.000000    103.000000   \n",
       "max        30.000000       3361.000000    130.000000    161.000000   \n",
       "\n",
       "       AvgSpeedPrecedingVehicle  MaxSpeedPrecedingVehicle  \\\n",
       "count              12657.000000              12657.000000   \n",
       "mean                  83.739038                 97.429644   \n",
       "std                    5.615351                 10.384553   \n",
       "min                   42.000000                 42.000000   \n",
       "25%                   81.000000                 90.000000   \n",
       "50%                   84.000000                 97.000000   \n",
       "75%                   87.000000                103.000000   \n",
       "max                  120.000000                161.000000   \n",
       "\n",
       "       AvgTimeGapPreceding  MaxTimeGapPreceding  MinTimeGapPreceding  \\\n",
       "count         12657.000000         12657.000000         12657.000000   \n",
       "mean            207.472387           495.494272            63.305523   \n",
       "std             215.625538           319.305080           164.957570   \n",
       "min               3.000000             3.000000             1.000000   \n",
       "25%              78.000000           278.000000             1.000000   \n",
       "50%             127.000000           396.000000             3.000000   \n",
       "75%             248.000000           611.000000            31.000000   \n",
       "max            1642.000000          1797.000000          1642.000000   \n",
       "\n",
       "       MedianTimeGapPreceding        ...          MaxWeightvehiclePreceding  \\\n",
       "count            12657.000000        ...                       12657.000000   \n",
       "mean               170.842459        ...                       18567.091254   \n",
       "std                225.010717        ...                       10878.766947   \n",
       "min                  2.000000        ...                         435.000000   \n",
       "25%                 42.000000        ...                       10103.000000   \n",
       "50%                 86.000000        ...                       20265.000000   \n",
       "75%                194.000000        ...                       26433.000000   \n",
       "max               1642.000000        ...                       69548.000000   \n",
       "\n",
       "       MinWeightvehiclePreceding  MedianWeightvehiclePreceding  RateOfSwitch  \\\n",
       "count               12657.000000                  12657.000000  12657.000000   \n",
       "mean                 1499.388165                   3992.661847      0.540684   \n",
       "std                  2271.604988                   4790.190582      0.434184   \n",
       "min                     3.000000                    345.000000      0.000000   \n",
       "25%                   830.000000                   1698.000000      0.220000   \n",
       "50%                  1148.000000                   1956.000000      0.500000   \n",
       "75%                  1453.000000                   2673.000000      0.780000   \n",
       "max                 29569.000000                  33469.000000      8.000000   \n",
       "\n",
       "            AirTemp   RelHumidity  WindDirection     WindSpeed  \\\n",
       "count  12657.000000  12657.000000   12657.000000  12657.000000   \n",
       "mean       4.555424     62.290037     179.833215      4.255748   \n",
       "std        3.258503     18.380075      82.745508      2.997064   \n",
       "min      -13.000000     16.000000       6.000000      0.000000   \n",
       "25%        2.000000     48.000000     152.000000      2.000000   \n",
       "50%        5.000000     59.000000     180.000000      4.000000   \n",
       "75%        7.000000     78.000000     203.000000      7.000000   \n",
       "max       23.000000     97.000000     360.000000     14.000000   \n",
       "\n",
       "       VehicleLength(cm)  VehicleWeight(kg)  \n",
       "count       12657.000000       12657.000000  \n",
       "mean         1024.774433        8064.355376  \n",
       "std           562.153993        8974.443098  \n",
       "min           155.000000          44.000000  \n",
       "25%           561.000000        1734.000000  \n",
       "50%           634.000000        2385.000000  \n",
       "75%          1694.000000       14352.000000  \n",
       "max          2337.000000       57230.000000  \n",
       "\n",
       "[8 rows x 25 columns]"
      ]
     },
     "execution_count": 36,
     "metadata": {},
     "output_type": "execute_result"
    }
   ],
   "source": [
    "numerical = ['TotalSwitches', 'TotalJourneyTime', 'AvgSpeed', 'MaxSpeed',\n",
    "       'AvgSpeedPrecedingVehicle', 'MaxSpeedPrecedingVehicle',\n",
    "       'AvgTimeGapPreceding', 'MaxTimeGapPreceding', 'MinTimeGapPreceding',\n",
    "       'MedianTimeGapPreceding', 'AvgLengthvehiclePreceding',\n",
    "       'MaxLengthvehiclePreceding', 'MinLengthvehiclePreceding',\n",
    "       'MedianLengthvehiclePreceding', 'AvgWeightvehiclePreceding',\n",
    "       'MaxWeightvehiclePreceding', 'MinWeightvehiclePreceding',\n",
    "       'MedianWeightvehiclePreceding','RateOfSwitch',\n",
    "       'AirTemp','RelHumidity',\n",
    "       'WindDirection', 'WindSpeed','VehicleLength(cm)',\n",
    "       'VehicleWeight(kg)']\n",
    "\n",
    "# Replacing missing(blanks) values by nan and inf with 0\n",
    "for i in numerical:\n",
    "    finalRawData[i].replace('', np.nan, inplace=True)\n",
    "    finalRawData[i] = finalRawData[i].apply(lambda x: 0 if x == inf else x)\n",
    "\n",
    "# Dropping all the NA values - In all ~2% of the data has missing or NA values\n",
    "finalRawData.dropna(subset=[numerical], inplace=True)\n",
    "\n",
    "# Checking the summary statistics\n",
    "finalRawData[numerical].describe()"
   ]
  },
  {
   "cell_type": "code",
   "execution_count": 37,
   "metadata": {
    "scrolled": true
   },
   "outputs": [
    {
     "name": "stdout",
     "output_type": "stream",
     "text": [
      "Identified variable TotalSwitches has 425 outliers: \n",
      "Identified variable TotalJourneyTime has 1118 outliers: \n",
      "Identified variable AvgSpeed has 552 outliers: \n",
      "Identified variable MaxSpeed has 278 outliers: \n",
      "Identified variable AvgSpeedPrecedingVehicle has 565 outliers: \n",
      "Identified variable MaxSpeedPrecedingVehicle has 281 outliers: \n",
      "Identified variable AvgTimeGapPreceding has 1143 outliers: \n",
      "Identified variable MaxTimeGapPreceding has 812 outliers: \n",
      "Identified variable MinTimeGapPreceding has 2211 outliers: \n",
      "Identified variable MedianTimeGapPreceding has 1341 outliers: \n",
      "Identified variable AvgLengthvehiclePreceding has 322 outliers: \n",
      "Identified variable MaxLengthvehiclePreceding has 104 outliers: \n",
      "Identified variable MinLengthvehiclePreceding has 1377 outliers: \n",
      "Identified variable MedianLengthvehiclePreceding has 2467 outliers: \n",
      "Identified variable AvgWeightvehiclePreceding has 328 outliers: \n",
      "Identified variable MaxWeightvehiclePreceding has 40 outliers: \n",
      "Identified variable MinWeightvehiclePreceding has 633 outliers: \n",
      "Identified variable MedianWeightvehiclePreceding has 2572 outliers: \n",
      "Identified variable RateOfSwitch has 257 outliers: \n",
      "Identified variable AirTemp has 173 outliers: \n",
      "Identified variable WindDirection has 3408 outliers: \n",
      "Identified variable VehicleWeight(kg) has 114 outliers: \n"
     ]
    },
    {
     "data": {
      "text/plain": [
       "22"
      ]
     },
     "execution_count": 37,
     "metadata": {},
     "output_type": "execute_result"
    }
   ],
   "source": [
    "# Identifying variables which have got outliers on upper and lower sides\n",
    "# We will be using Interquartile Range Method to identify the outlier\n",
    "from numpy import percentile\n",
    "def outlier(data):\n",
    "    # calculate interquartile range\n",
    "    q25, q75 = percentile(data, 25), percentile(data, 75)\n",
    "    iqr = q75 - q25\n",
    "    \n",
    "    # calculate the outlier cutoff\n",
    "    cut_off = iqr * 1.5\n",
    "    lower, upper = q25 - cut_off, q75 + cut_off\n",
    "    \n",
    "    # identify outliers\n",
    "    outliers = [x for x in data if x < lower or x > upper]\n",
    "    return(outliers)\n",
    "    \n",
    "var_outliers = []\n",
    "for i in numerical:\n",
    "    output = outlier(finalRawData[i])\n",
    "    if len(output) != 0:        \n",
    "        print('Identified variable %s has %d outliers: ' % (i, len(output)))\n",
    "        var_outliers.append(i)\n",
    "len(var_outliers)           "
   ]
  },
  {
   "cell_type": "code",
   "execution_count": 12,
   "metadata": {
    "collapsed": true
   },
   "outputs": [
    {
     "name": "stderr",
     "output_type": "stream",
     "text": [
      "C:\\Users\\datas\\Anaconda3\\lib\\site-packages\\scipy\\stats\\stats.py:1633: FutureWarning: Using a non-tuple sequence for multidimensional indexing is deprecated; use `arr[tuple(seq)]` instead of `arr[seq]`. In the future this will be interpreted as an array index, `arr[np.array(seq)]`, which will result either in an error or a different result.\n",
      "  return np.add.reduce(sorted[indexer] * weights, axis=axis) / sumval\n",
      "C:\\Users\\datas\\Anaconda3\\lib\\site-packages\\matplotlib\\pyplot.py:524: RuntimeWarning: More than 20 figures have been opened. Figures created through the pyplot interface (`matplotlib.pyplot.figure`) are retained until explicitly closed and may consume too much memory. (To control this warning, see the rcParam `figure.max_open_warning`).\n",
      "  max_open_warning, RuntimeWarning)\n"
     ]
    },
    {
     "data": {
      "text/plain": [
       "<matplotlib.figure.Figure at 0x1aa0e70a240>"
      ]
     },
     "metadata": {},
     "output_type": "display_data"
    },
    {
     "data": {
      "image/png": "[encoded data removed]",
      "text/plain": [
       "<matplotlib.figure.Figure at 0x1aa0ec92550>"
      ]
     },
     "metadata": {},
     "output_type": "display_data"
    },
    {
     "data": {
      "text/plain": [
       "<matplotlib.figure.Figure at 0x1aa0fd8dcc0>"
      ]
     },
     "metadata": {},
     "output_type": "display_data"
    },
    {
     "data": {
      "image/png": "[encoded data removed]",
      "text/plain": [
       "<matplotlib.figure.Figure at 0x1aa1056f518>"
      ]
     },
     "metadata": {},
     "output_type": "display_data"
    },
    {
     "data": {
      "text/plain": [
       "<matplotlib.figure.Figure at 0x1aa10834828>"
      ]
     },
     "metadata": {},
     "output_type": "display_data"
    },
    {
     "data": {
      "image/png": "[encoded data removed]",
      "text/plain": [
       "<matplotlib.figure.Figure at 0x1aa1074eda0>"
      ]
     },
     "metadata": {},
     "output_type": "display_data"
    },
    {
     "data": {
      "text/plain": [
       "<matplotlib.figure.Figure at 0x1aa13699d30>"
      ]
     },
     "metadata": {},
     "output_type": "display_data"
    },
    {
     "data": {
      "image/png": "[encoded data removed]",
      "text/plain": [
       "<matplotlib.figure.Figure at 0x1aa12224f28>"
      ]
     },
     "metadata": {},
     "output_type": "display_data"
    },
    {
     "data": {
      "text/plain": [
       "<matplotlib.figure.Figure at 0x1aa136dae10>"
      ]
     },
     "metadata": {},
     "output_type": "display_data"
    },
    {
     "data": {
      "image/png": "[encoded data removed]",
      "text/plain": [
       "<matplotlib.figure.Figure at 0x1aa0f74e630>"
      ]
     },
     "metadata": {},
     "output_type": "display_data"
    },
    {
     "data": {
      "text/plain": [
       "<matplotlib.figure.Figure at 0x1aa0f9f47f0>"
      ]
     },
     "metadata": {},
     "output_type": "display_data"
    },
    {
     "data": {
      "image/png": "[encoded data removed]",
      "text/plain": [
       "<matplotlib.figure.Figure at 0x1aa1eb8f550>"
      ]
     },
     "metadata": {},
     "output_type": "display_data"
    },
    {
     "data": {
      "text/plain": [
       "<matplotlib.figure.Figure at 0x1aa13303518>"
      ]
     },
     "metadata": {},
     "output_type": "display_data"
    },
    {
     "data": {
      "image/png": "[encoded data removed]",
      "text/plain": [
       "<matplotlib.figure.Figure at 0x1aa1372ca58>"
      ]
     },
     "metadata": {},
     "output_type": "display_data"
    },
    {
     "data": {
      "text/plain": [
       "<matplotlib.figure.Figure at 0x1aa0f3a1780>"
      ]
     },
     "metadata": {},
     "output_type": "display_data"
    },
    {
     "data": {
      "image/png": "[encoded data removed]",
      "text/plain": [
       "<matplotlib.figure.Figure at 0x1aa0f095748>"
      ]
     },
     "metadata": {},
     "output_type": "display_data"
    },
    {
     "data": {
      "text/plain": [
       "<matplotlib.figure.Figure at 0x1aa11f6c240>"
      ]
     },
     "metadata": {},
     "output_type": "display_data"
    },
    {
     "data": {
      "image/png": "[encoded data removed]",
      "text/plain": [
       "<matplotlib.figure.Figure at 0x1aa0e950f60>"
      ]
     },
     "metadata": {},
     "output_type": "display_data"
    },
    {
     "data": {
      "text/plain": [
       "<matplotlib.figure.Figure at 0x1aa0e70a198>"
      ]
     },
     "metadata": {},
     "output_type": "display_data"
    },
    {
     "data": {
      "image/png": "[encoded data removed]",
      "text/plain": [
       "<matplotlib.figure.Figure at 0x1aa12d0acc0>"
      ]
     },
     "metadata": {},
     "output_type": "display_data"
    },
    {
     "data": {
      "text/plain": [
       "<matplotlib.figure.Figure at 0x1aa13847c88>"
      ]
     },
     "metadata": {},
     "output_type": "display_data"
    },
    {
     "data": {
      "image/png": "[encoded data removed]",
      "text/plain": [
       "<matplotlib.figure.Figure at 0x1aa12d06390>"
      ]
     },
     "metadata": {},
     "output_type": "display_data"
    },
    {
     "data": {
      "text/plain": [
       "<matplotlib.figure.Figure at 0x1aa12ce3eb8>"
      ]
     },
     "metadata": {},
     "output_type": "display_data"
    },
    {
     "data": {
      "image/png": "[encoded data removed]",
      "text/plain": [
       "<matplotlib.figure.Figure at 0x1aa129b1f60>"
      ]
     },
     "metadata": {},
     "output_type": "display_data"
    },
    {
     "data": {
      "text/plain": [
       "<matplotlib.figure.Figure at 0x1aa1251de48>"
      ]
     },
     "metadata": {},
     "output_type": "display_data"
    },
    {
     "data": {
      "image/png": "[encoded data removed]",
      "text/plain": [
       "<matplotlib.figure.Figure at 0x1aa125d9518>"
      ]
     },
     "metadata": {},
     "output_type": "display_data"
    },
    {
     "data": {
      "text/plain": [
       "<matplotlib.figure.Figure at 0x1aa129de390>"
      ]
     },
     "metadata": {},
     "output_type": "display_data"
    },
    {
     "data": {
      "image/png": "[encoded data removed]",
      "text/plain": [
       "<matplotlib.figure.Figure at 0x1aa12869470>"
      ]
     },
     "metadata": {},
     "output_type": "display_data"
    },
    {
     "data": {
      "text/plain": [
       "<matplotlib.figure.Figure at 0x1aa13a2dd30>"
      ]
     },
     "metadata": {},
     "output_type": "display_data"
    },
    {
     "data": {
      "image/png": "[encoded data removed]",
      "text/plain": [
       "<matplotlib.figure.Figure at 0x1aa10617208>"
      ]
     },
     "metadata": {},
     "output_type": "display_data"
    },
    {
     "data": {
      "text/plain": [
       "<matplotlib.figure.Figure at 0x1aa0f789358>"
      ]
     },
     "metadata": {},
     "output_type": "display_data"
    },
    {
     "data": {
      "image/png": "[encoded data removed]",
      "text/plain": [
       "<matplotlib.figure.Figure at 0x1aa0e7974a8>"
      ]
     },
     "metadata": {},
     "output_type": "display_data"
    },
    {
     "data": {
      "text/plain": [
       "<matplotlib.figure.Figure at 0x1aa0e7b4c50>"
      ]
     },
     "metadata": {},
     "output_type": "display_data"
    },
    {
     "data": {
      "image/png": "[encoded data removed]",
      "text/plain": [
       "<matplotlib.figure.Figure at 0x1aa0fbd35f8>"
      ]
     },
     "metadata": {},
     "output_type": "display_data"
    },
    {
     "data": {
      "text/plain": [
       "<matplotlib.figure.Figure at 0x1aa109f9eb8>"
      ]
     },
     "metadata": {},
     "output_type": "display_data"
    },
    {
     "data": {
      "image/png": "[encoded data removed]",
      "text/plain": [
       "<matplotlib.figure.Figure at 0x1aa12060390>"
      ]
     },
     "metadata": {},
     "output_type": "display_data"
    },
    {
     "data": {
      "text/plain": [
       "<matplotlib.figure.Figure at 0x1aa0f4ee668>"
      ]
     },
     "metadata": {},
     "output_type": "display_data"
    },
    {
     "data": {
      "image/png": "[encoded data removed]",
      "text/plain": [
       "<matplotlib.figure.Figure at 0x1aa20db44e0>"
      ]
     },
     "metadata": {},
     "output_type": "display_data"
    },
    {
     "data": {
      "text/plain": [
       "<matplotlib.figure.Figure at 0x1aa0eecfa20>"
      ]
     },
     "metadata": {},
     "output_type": "display_data"
    },
    {
     "data": {
      "image/png": "[encoded data removed]",
      "text/plain": [
       "<matplotlib.figure.Figure at 0x1aa122044a8>"
      ]
     },
     "metadata": {},
     "output_type": "display_data"
    },
    {
     "data": {
      "text/plain": [
       "<matplotlib.figure.Figure at 0x1aa0ec47ef0>"
      ]
     },
     "metadata": {},
     "output_type": "display_data"
    },
    {
     "data": {
      "image/png": "[encoded data removed]",
      "text/plain": [
       "<matplotlib.figure.Figure at 0x1aa139d63c8>"
      ]
     },
     "metadata": {},
     "output_type": "display_data"
    },
    {
     "data": {
      "text/plain": [
       "<matplotlib.figure.Figure at 0x1aa125536a0>"
      ]
     },
     "metadata": {},
     "output_type": "display_data"
    },
    {
     "data": {
      "image/png": "[encoded data removed]",
      "text/plain": [
       "<matplotlib.figure.Figure at 0x1aa0e768518>"
      ]
     },
     "metadata": {},
     "output_type": "display_data"
    },
    {
     "data": {
      "text/plain": [
       "<matplotlib.figure.Figure at 0x1aa0ea8f860>"
      ]
     },
     "metadata": {},
     "output_type": "display_data"
    },
    {
     "data": {
      "image/png": "[encoded data removed]",
      "text/plain": [
       "<matplotlib.figure.Figure at 0x1aa0f5394e0>"
      ]
     },
     "metadata": {},
     "output_type": "display_data"
    },
    {
     "data": {
      "text/plain": [
       "<matplotlib.figure.Figure at 0x1aa0f6d7240>"
      ]
     },
     "metadata": {},
     "output_type": "display_data"
    },
    {
     "data": {
      "image/png": "[encoded data removed]",
      "text/plain": [
       "<matplotlib.figure.Figure at 0x1aa11edaf28>"
      ]
     },
     "metadata": {},
     "output_type": "display_data"
    },
    {
     "data": {
      "text/plain": [
       "<matplotlib.figure.Figure at 0x1aa20ec6e10>"
      ]
     },
     "metadata": {},
     "output_type": "display_data"
    },
    {
     "data": {
      "image/png": "[encoded data removed]",
      "text/plain": [
       "<matplotlib.figure.Figure at 0x1aa11b25358>"
      ]
     },
     "metadata": {},
     "output_type": "display_data"
    }
   ],
   "source": [
    "# plotting histogram with a boxplot on top for each variable\n",
    "for i in numerical:\n",
    "    plt.figure(i)\n",
    "    # Cut the window in 2 parts\n",
    "    f, (ax_box, ax_hist) = plt.subplots(2, sharex=True, gridspec_kw={\"height_ratios\": (.15, .85)})\n",
    "    # Add a graph in each part\n",
    "    sns.boxplot(finalRawData[i], ax=ax_box)\n",
    "    sns.distplot(finalRawData[i], ax=ax_hist)\n",
    "\n",
    "    # Remove x axis name for the boxplot\n",
    "    ax_box.set(xlabel='')\n",
    "\n"
   ]
  },
  {
   "cell_type": "markdown",
   "metadata": {},
   "source": [
    "Form the above analysis we can see that out of 25 numerical variables which we have 22 have outlier. Each have varied numer of outlier. we also looked at the histogram with boxplots and based upon these two analysis we have decided to take log transformations for some 11 varaibles."
   ]
  },
  {
   "cell_type": "code",
   "execution_count": 38,
   "metadata": {},
   "outputs": [],
   "source": [
    "# Taking log transformation for some varaibles\n",
    "VarLogTransList = [\"TotalSwitches\", \"AvgTimeGapPreceding\", \"MaxTimeGapPreceding\", \"MinTimeGapPreceding\", \n",
    "                   \"MedianTimeGapPreceding\", \"AvgLengthvehiclePreceding\", \"AvgWeightvehiclePreceding\", \n",
    "                   \"MedianWeightvehiclePreceding\", \"VehicleWeight(kg)\", \"VehicleLength(cm)\"]\n",
    "for i in VarLogTransList:\n",
    "    finalRawData[\"log_\" + i] = np.log(finalRawData[i] + 1)\n",
    "    \n",
    "finalRawData = finalRawData.drop(VarLogTransList, axis=1)"
   ]
  },
  {
   "cell_type": "code",
   "execution_count": 39,
   "metadata": {
    "collapsed": true
   },
   "outputs": [],
   "source": [
    "# Converting some of the variables to categorial type\n",
    "catVariableList = ['RoadCondition', 'NumAxles', 'Precipitation', 'PrecipitationIntensity', 'Weekday', 'DrivingStyle']\n",
    "\n",
    "for i in catVariableList:\n",
    "    finalRawData[i] = finalRawData[i].astype('category')"
   ]
  },
  {
   "cell_type": "code",
   "execution_count": 40,
   "metadata": {},
   "outputs": [
    {
     "name": "stdout",
     "output_type": "stream",
     "text": [
      "Total number of numerical variables: 25\n",
      "Total number of categorical variables: 6\n"
     ]
    }
   ],
   "source": [
    "print(\"Total number of numerical variables: {}\".format(len(numerical)))\n",
    "print(\"Total number of categorical variables: {}\".format(len(catVariableList)))"
   ]
  },
  {
   "cell_type": "code",
   "execution_count": 41,
   "metadata": {},
   "outputs": [
    {
     "data": {
      "text/html": [
       "<div>\n",
       "<style>\n",
       "    .dataframe thead tr:only-child th {\n",
       "        text-align: right;\n",
       "    }\n",
       "\n",
       "    .dataframe thead th {\n",
       "        text-align: left;\n",
       "    }\n",
       "\n",
       "    .dataframe tbody tr th {\n",
       "        vertical-align: top;\n",
       "    }\n",
       "</style>\n",
       "<table border=\"1\" class=\"dataframe\">\n",
       "  <thead>\n",
       "    <tr style=\"text-align: right;\">\n",
       "      <th></th>\n",
       "      <th>ID</th>\n",
       "      <th>TotalJourneyTime</th>\n",
       "      <th>AvgSpeed</th>\n",
       "      <th>MaxSpeed</th>\n",
       "      <th>AvgSpeedPrecedingVehicle</th>\n",
       "      <th>MaxSpeedPrecedingVehicle</th>\n",
       "      <th>MaxLengthvehiclePreceding</th>\n",
       "      <th>MinLengthvehiclePreceding</th>\n",
       "      <th>MedianLengthvehiclePreceding</th>\n",
       "      <th>MaxWeightvehiclePreceding</th>\n",
       "      <th>...</th>\n",
       "      <th>log_TotalSwitches</th>\n",
       "      <th>log_AvgTimeGapPreceding</th>\n",
       "      <th>log_MaxTimeGapPreceding</th>\n",
       "      <th>log_MinTimeGapPreceding</th>\n",
       "      <th>log_MedianTimeGapPreceding</th>\n",
       "      <th>log_AvgLengthvehiclePreceding</th>\n",
       "      <th>log_AvgWeightvehiclePreceding</th>\n",
       "      <th>log_MedianWeightvehiclePreceding</th>\n",
       "      <th>log_VehicleWeight(kg)</th>\n",
       "      <th>log_VehicleLength(cm)</th>\n",
       "    </tr>\n",
       "  </thead>\n",
       "  <tbody>\n",
       "    <tr>\n",
       "      <th>0</th>\n",
       "      <td>DR_24526</td>\n",
       "      <td>0.002678</td>\n",
       "      <td>0.500000</td>\n",
       "      <td>0.491379</td>\n",
       "      <td>0.576923</td>\n",
       "      <td>0.420168</td>\n",
       "      <td>0.599533</td>\n",
       "      <td>0.176207</td>\n",
       "      <td>0.141040</td>\n",
       "      <td>0.372607</td>\n",
       "      <td>...</td>\n",
       "      <td>0.468679</td>\n",
       "      <td>0.473217</td>\n",
       "      <td>0.800629</td>\n",
       "      <td>0.060417</td>\n",
       "      <td>0.370361</td>\n",
       "      <td>0.573153</td>\n",
       "      <td>0.694868</td>\n",
       "      <td>0.444303</td>\n",
       "      <td>0.759323</td>\n",
       "      <td>0.773406</td>\n",
       "    </tr>\n",
       "    <tr>\n",
       "      <th>1</th>\n",
       "      <td>DR_30052</td>\n",
       "      <td>0.002975</td>\n",
       "      <td>0.441860</td>\n",
       "      <td>0.396552</td>\n",
       "      <td>0.564103</td>\n",
       "      <td>0.504202</td>\n",
       "      <td>0.590183</td>\n",
       "      <td>0.162270</td>\n",
       "      <td>0.118363</td>\n",
       "      <td>0.440380</td>\n",
       "      <td>...</td>\n",
       "      <td>0.605547</td>\n",
       "      <td>0.589596</td>\n",
       "      <td>0.787499</td>\n",
       "      <td>0.278910</td>\n",
       "      <td>0.524624</td>\n",
       "      <td>0.548136</td>\n",
       "      <td>0.649711</td>\n",
       "      <td>0.385812</td>\n",
       "      <td>0.913650</td>\n",
       "      <td>0.878137</td>\n",
       "    </tr>\n",
       "    <tr>\n",
       "      <th>2</th>\n",
       "      <td>DR_40928</td>\n",
       "      <td>0.002678</td>\n",
       "      <td>0.476744</td>\n",
       "      <td>0.482759</td>\n",
       "      <td>0.512821</td>\n",
       "      <td>0.495798</td>\n",
       "      <td>0.503311</td>\n",
       "      <td>0.182678</td>\n",
       "      <td>0.118916</td>\n",
       "      <td>0.320504</td>\n",
       "      <td>...</td>\n",
       "      <td>0.468679</td>\n",
       "      <td>0.614011</td>\n",
       "      <td>0.782419</td>\n",
       "      <td>0.103283</td>\n",
       "      <td>0.560784</td>\n",
       "      <td>0.454930</td>\n",
       "      <td>0.561455</td>\n",
       "      <td>0.380882</td>\n",
       "      <td>0.597638</td>\n",
       "      <td>0.662245</td>\n",
       "    </tr>\n",
       "    <tr>\n",
       "      <th>3</th>\n",
       "      <td>DR_66033</td>\n",
       "      <td>0.002975</td>\n",
       "      <td>0.453488</td>\n",
       "      <td>0.379310</td>\n",
       "      <td>0.538462</td>\n",
       "      <td>0.445378</td>\n",
       "      <td>0.600701</td>\n",
       "      <td>0.169736</td>\n",
       "      <td>0.496681</td>\n",
       "      <td>0.479345</td>\n",
       "      <td>...</td>\n",
       "      <td>0.566662</td>\n",
       "      <td>0.563782</td>\n",
       "      <td>0.668251</td>\n",
       "      <td>0.000000</td>\n",
       "      <td>0.571211</td>\n",
       "      <td>0.694899</td>\n",
       "      <td>0.714587</td>\n",
       "      <td>0.587200</td>\n",
       "      <td>0.601530</td>\n",
       "      <td>0.837039</td>\n",
       "    </tr>\n",
       "    <tr>\n",
       "      <th>4</th>\n",
       "      <td>DR_45266</td>\n",
       "      <td>0.002678</td>\n",
       "      <td>0.453488</td>\n",
       "      <td>0.379310</td>\n",
       "      <td>0.525641</td>\n",
       "      <td>0.453782</td>\n",
       "      <td>0.496299</td>\n",
       "      <td>0.194624</td>\n",
       "      <td>0.148783</td>\n",
       "      <td>0.187302</td>\n",
       "      <td>...</td>\n",
       "      <td>0.521772</td>\n",
       "      <td>0.552217</td>\n",
       "      <td>0.745973</td>\n",
       "      <td>0.206566</td>\n",
       "      <td>0.439698</td>\n",
       "      <td>0.419140</td>\n",
       "      <td>0.469856</td>\n",
       "      <td>0.381214</td>\n",
       "      <td>0.588589</td>\n",
       "      <td>0.659475</td>\n",
       "    </tr>\n",
       "  </tbody>\n",
       "</table>\n",
       "<p>5 rows × 32 columns</p>\n",
       "</div>"
      ],
      "text/plain": [
       "         ID  TotalJourneyTime  AvgSpeed  MaxSpeed  AvgSpeedPrecedingVehicle  \\\n",
       "0  DR_24526          0.002678  0.500000  0.491379                  0.576923   \n",
       "1  DR_30052          0.002975  0.441860  0.396552                  0.564103   \n",
       "2  DR_40928          0.002678  0.476744  0.482759                  0.512821   \n",
       "3  DR_66033          0.002975  0.453488  0.379310                  0.538462   \n",
       "4  DR_45266          0.002678  0.453488  0.379310                  0.525641   \n",
       "\n",
       "   MaxSpeedPrecedingVehicle  MaxLengthvehiclePreceding  \\\n",
       "0                  0.420168                   0.599533   \n",
       "1                  0.504202                   0.590183   \n",
       "2                  0.495798                   0.503311   \n",
       "3                  0.445378                   0.600701   \n",
       "4                  0.453782                   0.496299   \n",
       "\n",
       "   MinLengthvehiclePreceding  MedianLengthvehiclePreceding  \\\n",
       "0                   0.176207                      0.141040   \n",
       "1                   0.162270                      0.118363   \n",
       "2                   0.182678                      0.118916   \n",
       "3                   0.169736                      0.496681   \n",
       "4                   0.194624                      0.148783   \n",
       "\n",
       "   MaxWeightvehiclePreceding          ...           log_TotalSwitches  \\\n",
       "0                   0.372607          ...                    0.468679   \n",
       "1                   0.440380          ...                    0.605547   \n",
       "2                   0.320504          ...                    0.468679   \n",
       "3                   0.479345          ...                    0.566662   \n",
       "4                   0.187302          ...                    0.521772   \n",
       "\n",
       "  log_AvgTimeGapPreceding  log_MaxTimeGapPreceding  log_MinTimeGapPreceding  \\\n",
       "0                0.473217                 0.800629                 0.060417   \n",
       "1                0.589596                 0.787499                 0.278910   \n",
       "2                0.614011                 0.782419                 0.103283   \n",
       "3                0.563782                 0.668251                 0.000000   \n",
       "4                0.552217                 0.745973                 0.206566   \n",
       "\n",
       "  log_MedianTimeGapPreceding log_AvgLengthvehiclePreceding  \\\n",
       "0                   0.370361                      0.573153   \n",
       "1                   0.524624                      0.548136   \n",
       "2                   0.560784                      0.454930   \n",
       "3                   0.571211                      0.694899   \n",
       "4                   0.439698                      0.419140   \n",
       "\n",
       "   log_AvgWeightvehiclePreceding  log_MedianWeightvehiclePreceding  \\\n",
       "0                       0.694868                          0.444303   \n",
       "1                       0.649711                          0.385812   \n",
       "2                       0.561455                          0.380882   \n",
       "3                       0.714587                          0.587200   \n",
       "4                       0.469856                          0.381214   \n",
       "\n",
       "   log_VehicleWeight(kg) log_VehicleLength(cm)  \n",
       "0               0.759323              0.773406  \n",
       "1               0.913650              0.878137  \n",
       "2               0.597638              0.662245  \n",
       "3               0.601530              0.837039  \n",
       "4               0.588589              0.659475  \n",
       "\n",
       "[5 rows x 32 columns]"
      ]
     },
     "execution_count": 41,
     "metadata": {},
     "output_type": "execute_result"
    }
   ],
   "source": [
    "from sklearn.preprocessing import MinMaxScaler\n",
    "\n",
    "FinalNumerical = finalRawData.drop(catVariableList, axis = 1).columns\n",
    "FinalNumerical = FinalNumerical.drop(\"ID\")\n",
    "\n",
    "\n",
    "# Initialize a scaler, then apply it to the features\n",
    "scaler = MinMaxScaler() # default=(0, 1)\n",
    "\n",
    "finalRawData[FinalNumerical] = scaler.fit_transform(finalRawData[FinalNumerical])\n",
    "\n",
    "# Show an example of a record with scaling applied\n",
    "finalRawData.head(n = 5)"
   ]
  },
  {
   "cell_type": "code",
   "execution_count": 42,
   "metadata": {
    "collapsed": true
   },
   "outputs": [],
   "source": [
    "DrivingStyle = finalRawData[\"DrivingStyle\"]\n",
    "features = finalRawData.drop([\"ID\",\"DrivingStyle\"], axis=1)"
   ]
  },
  {
   "cell_type": "code",
   "execution_count": 50,
   "metadata": {
    "scrolled": true
   },
   "outputs": [
    {
     "data": {
      "text/html": [
       "<div>\n",
       "<style>\n",
       "    .dataframe thead tr:only-child th {\n",
       "        text-align: right;\n",
       "    }\n",
       "\n",
       "    .dataframe thead th {\n",
       "        text-align: left;\n",
       "    }\n",
       "\n",
       "    .dataframe tbody tr th {\n",
       "        vertical-align: top;\n",
       "    }\n",
       "</style>\n",
       "<table border=\"1\" class=\"dataframe\">\n",
       "  <thead>\n",
       "    <tr style=\"text-align: right;\">\n",
       "      <th></th>\n",
       "      <th>TotalJourneyTime</th>\n",
       "      <th>AvgSpeed</th>\n",
       "      <th>MaxSpeed</th>\n",
       "      <th>AvgSpeedPrecedingVehicle</th>\n",
       "      <th>MaxSpeedPrecedingVehicle</th>\n",
       "      <th>MaxLengthvehiclePreceding</th>\n",
       "      <th>MinLengthvehiclePreceding</th>\n",
       "      <th>MedianLengthvehiclePreceding</th>\n",
       "      <th>MaxWeightvehiclePreceding</th>\n",
       "      <th>MinWeightvehiclePreceding</th>\n",
       "      <th>...</th>\n",
       "      <th>Weekday_5</th>\n",
       "      <th>Weekday_6</th>\n",
       "      <th>NumAxles_2</th>\n",
       "      <th>NumAxles_3</th>\n",
       "      <th>NumAxles_4</th>\n",
       "      <th>NumAxles_5</th>\n",
       "      <th>NumAxles_6</th>\n",
       "      <th>NumAxles_7</th>\n",
       "      <th>NumAxles_8</th>\n",
       "      <th>NumAxles_9</th>\n",
       "    </tr>\n",
       "  </thead>\n",
       "  <tbody>\n",
       "    <tr>\n",
       "      <th>0</th>\n",
       "      <td>0.002678</td>\n",
       "      <td>0.500000</td>\n",
       "      <td>0.491379</td>\n",
       "      <td>0.576923</td>\n",
       "      <td>0.420168</td>\n",
       "      <td>0.599533</td>\n",
       "      <td>0.176207</td>\n",
       "      <td>0.141040</td>\n",
       "      <td>0.372607</td>\n",
       "      <td>0.030711</td>\n",
       "      <td>...</td>\n",
       "      <td>0</td>\n",
       "      <td>0</td>\n",
       "      <td>1</td>\n",
       "      <td>0</td>\n",
       "      <td>0</td>\n",
       "      <td>0</td>\n",
       "      <td>0</td>\n",
       "      <td>0</td>\n",
       "      <td>0</td>\n",
       "      <td>0</td>\n",
       "    </tr>\n",
       "    <tr>\n",
       "      <th>1</th>\n",
       "      <td>0.002975</td>\n",
       "      <td>0.441860</td>\n",
       "      <td>0.396552</td>\n",
       "      <td>0.564103</td>\n",
       "      <td>0.504202</td>\n",
       "      <td>0.590183</td>\n",
       "      <td>0.162270</td>\n",
       "      <td>0.118363</td>\n",
       "      <td>0.440380</td>\n",
       "      <td>0.012548</td>\n",
       "      <td>...</td>\n",
       "      <td>0</td>\n",
       "      <td>0</td>\n",
       "      <td>0</td>\n",
       "      <td>0</td>\n",
       "      <td>0</td>\n",
       "      <td>0</td>\n",
       "      <td>1</td>\n",
       "      <td>0</td>\n",
       "      <td>0</td>\n",
       "      <td>0</td>\n",
       "    </tr>\n",
       "    <tr>\n",
       "      <th>2</th>\n",
       "      <td>0.002678</td>\n",
       "      <td>0.476744</td>\n",
       "      <td>0.482759</td>\n",
       "      <td>0.512821</td>\n",
       "      <td>0.495798</td>\n",
       "      <td>0.503311</td>\n",
       "      <td>0.182678</td>\n",
       "      <td>0.118916</td>\n",
       "      <td>0.320504</td>\n",
       "      <td>0.033146</td>\n",
       "      <td>...</td>\n",
       "      <td>0</td>\n",
       "      <td>0</td>\n",
       "      <td>0</td>\n",
       "      <td>0</td>\n",
       "      <td>1</td>\n",
       "      <td>0</td>\n",
       "      <td>0</td>\n",
       "      <td>0</td>\n",
       "      <td>0</td>\n",
       "      <td>0</td>\n",
       "    </tr>\n",
       "    <tr>\n",
       "      <th>3</th>\n",
       "      <td>0.002975</td>\n",
       "      <td>0.453488</td>\n",
       "      <td>0.379310</td>\n",
       "      <td>0.538462</td>\n",
       "      <td>0.445378</td>\n",
       "      <td>0.600701</td>\n",
       "      <td>0.169736</td>\n",
       "      <td>0.496681</td>\n",
       "      <td>0.479345</td>\n",
       "      <td>0.017080</td>\n",
       "      <td>...</td>\n",
       "      <td>0</td>\n",
       "      <td>0</td>\n",
       "      <td>0</td>\n",
       "      <td>0</td>\n",
       "      <td>1</td>\n",
       "      <td>0</td>\n",
       "      <td>0</td>\n",
       "      <td>0</td>\n",
       "      <td>0</td>\n",
       "      <td>0</td>\n",
       "    </tr>\n",
       "    <tr>\n",
       "      <th>4</th>\n",
       "      <td>0.002678</td>\n",
       "      <td>0.453488</td>\n",
       "      <td>0.379310</td>\n",
       "      <td>0.525641</td>\n",
       "      <td>0.453782</td>\n",
       "      <td>0.496299</td>\n",
       "      <td>0.194624</td>\n",
       "      <td>0.148783</td>\n",
       "      <td>0.187302</td>\n",
       "      <td>0.051580</td>\n",
       "      <td>...</td>\n",
       "      <td>0</td>\n",
       "      <td>0</td>\n",
       "      <td>0</td>\n",
       "      <td>0</td>\n",
       "      <td>1</td>\n",
       "      <td>0</td>\n",
       "      <td>0</td>\n",
       "      <td>0</td>\n",
       "      <td>0</td>\n",
       "      <td>0</td>\n",
       "    </tr>\n",
       "  </tbody>\n",
       "</table>\n",
       "<p>5 rows × 52 columns</p>\n",
       "</div>"
      ],
      "text/plain": [
       "   TotalJourneyTime  AvgSpeed  MaxSpeed  AvgSpeedPrecedingVehicle  \\\n",
       "0          0.002678  0.500000  0.491379                  0.576923   \n",
       "1          0.002975  0.441860  0.396552                  0.564103   \n",
       "2          0.002678  0.476744  0.482759                  0.512821   \n",
       "3          0.002975  0.453488  0.379310                  0.538462   \n",
       "4          0.002678  0.453488  0.379310                  0.525641   \n",
       "\n",
       "   MaxSpeedPrecedingVehicle  MaxLengthvehiclePreceding  \\\n",
       "0                  0.420168                   0.599533   \n",
       "1                  0.504202                   0.590183   \n",
       "2                  0.495798                   0.503311   \n",
       "3                  0.445378                   0.600701   \n",
       "4                  0.453782                   0.496299   \n",
       "\n",
       "   MinLengthvehiclePreceding  MedianLengthvehiclePreceding  \\\n",
       "0                   0.176207                      0.141040   \n",
       "1                   0.162270                      0.118363   \n",
       "2                   0.182678                      0.118916   \n",
       "3                   0.169736                      0.496681   \n",
       "4                   0.194624                      0.148783   \n",
       "\n",
       "   MaxWeightvehiclePreceding  MinWeightvehiclePreceding     ...      \\\n",
       "0                   0.372607                   0.030711     ...       \n",
       "1                   0.440380                   0.012548     ...       \n",
       "2                   0.320504                   0.033146     ...       \n",
       "3                   0.479345                   0.017080     ...       \n",
       "4                   0.187302                   0.051580     ...       \n",
       "\n",
       "   Weekday_5  Weekday_6  NumAxles_2  NumAxles_3  NumAxles_4  NumAxles_5  \\\n",
       "0          0          0           1           0           0           0   \n",
       "1          0          0           0           0           0           0   \n",
       "2          0          0           0           0           1           0   \n",
       "3          0          0           0           0           1           0   \n",
       "4          0          0           0           0           1           0   \n",
       "\n",
       "   NumAxles_6  NumAxles_7  NumAxles_8  NumAxles_9  \n",
       "0           0           0           0           0  \n",
       "1           1           0           0           0  \n",
       "2           0           0           0           0  \n",
       "3           0           0           0           0  \n",
       "4           0           0           0           0  \n",
       "\n",
       "[5 rows x 52 columns]"
      ]
     },
     "execution_count": 50,
     "metadata": {},
     "output_type": "execute_result"
    }
   ],
   "source": [
    "# TODO: One-hot encode the 'features_log_minmax_transform' data using pandas.get_dummies()\n",
    "features_final = pd.get_dummies(features)\n",
    "features_final.head()"
   ]
  },
  {
   "cell_type": "code",
   "execution_count": 49,
   "metadata": {
    "scrolled": true
   },
   "outputs": [
    {
     "data": {
      "text/plain": [
       "Index(['TotalJourneyTime', 'AvgSpeed', 'MaxSpeed', 'AvgSpeedPrecedingVehicle',\n",
       "       'MaxSpeedPrecedingVehicle', 'MaxLengthvehiclePreceding',\n",
       "       'MinLengthvehiclePreceding', 'MedianLengthvehiclePreceding',\n",
       "       'MaxWeightvehiclePreceding', 'MinWeightvehiclePreceding',\n",
       "       'RateOfSwitch', 'AirTemp', 'RelHumidity', 'WindDirection', 'WindSpeed',\n",
       "       'log_TotalSwitches', 'log_AvgTimeGapPreceding',\n",
       "       'log_MaxTimeGapPreceding', 'log_MinTimeGapPreceding',\n",
       "       'log_MedianTimeGapPreceding', 'log_AvgLengthvehiclePreceding',\n",
       "       'log_AvgWeightvehiclePreceding', 'log_MedianWeightvehiclePreceding',\n",
       "       'log_VehicleWeight(kg)', 'log_VehicleLength(cm)', 'RoadCondition_Dry',\n",
       "       'RoadCondition_Snow covered', 'RoadCondition_Visible tracks',\n",
       "       'RoadCondition_Wet', 'Precipitation_clear', 'Precipitation_rain',\n",
       "       'Precipitation_snow', 'PrecipitationIntensity_High',\n",
       "       'PrecipitationIntensity_Low', 'PrecipitationIntensity_Missing',\n",
       "       'PrecipitationIntensity_Moderate', 'PrecipitationIntensity_None',\n",
       "       'Weekday_0', 'Weekday_1', 'Weekday_2', 'Weekday_3', 'Weekday_4',\n",
       "       'Weekday_5', 'Weekday_6', 'NumAxles_2', 'NumAxles_3', 'NumAxles_4',\n",
       "       'NumAxles_5', 'NumAxles_6', 'NumAxles_7', 'NumAxles_8', 'NumAxles_9'],\n",
       "      dtype='object')"
      ]
     },
     "execution_count": 49,
     "metadata": {},
     "output_type": "execute_result"
    }
   ],
   "source": [
    "features_final.columns"
   ]
  },
  {
   "cell_type": "code",
   "execution_count": 51,
   "metadata": {},
   "outputs": [
    {
     "name": "stdout",
     "output_type": "stream",
     "text": [
      "Training set has 8859 samples.\n",
      "Testing set has 3798 samples.\n"
     ]
    },
    {
     "name": "stderr",
     "output_type": "stream",
     "text": [
      "C:\\Users\\datas\\Anaconda3\\lib\\site-packages\\sklearn\\cross_validation.py:44: DeprecationWarning: This module was deprecated in version 0.18 in favor of the model_selection module into which all the refactored classes and functions are moved. Also note that the interface of the new CV iterators are different from that of this module. This module will be removed in 0.20.\n",
      "  \"This module will be removed in 0.20.\", DeprecationWarning)\n"
     ]
    }
   ],
   "source": [
    "# Importing train_test_split\n",
    "from sklearn.cross_validation import train_test_split\n",
    "\n",
    "# Split the 'features' and 'income' data into training and testing sets\n",
    "X_train, X_test, y_train, y_test = train_test_split(features_final, \n",
    "                                                    DrivingStyle, \n",
    "                                                    test_size = 0.3, \n",
    "                                                    random_state = 0)\n",
    "\n",
    "# Show the results of the split\n",
    "print(\"Training set has {} samples.\".format(X_train.shape[0]))\n",
    "print(\"Testing set has {} samples.\".format(X_test.shape[0]))"
   ]
  },
  {
   "cell_type": "code",
   "execution_count": 52,
   "metadata": {},
   "outputs": [
    {
     "name": "stderr",
     "output_type": "stream",
     "text": [
      "C:\\Users\\datas\\Anaconda3\\lib\\site-packages\\sklearn\\ensemble\\weight_boosting.py:29: DeprecationWarning: numpy.core.umath_tests is an internal NumPy module and should not be imported. It will be removed in a future NumPy release.\n",
      "  from numpy.core.umath_tests import inner1d\n",
      "C:\\Users\\datas\\Anaconda3\\lib\\site-packages\\sklearn\\metrics\\classification.py:1113: UndefinedMetricWarning: Precision is ill-defined and being set to 0.0 due to no predicted samples.\n",
      "  'precision', 'predicted', average, warn_for)\n",
      "C:\\Users\\datas\\Anaconda3\\lib\\site-packages\\ipykernel\\__main__.py:76: RuntimeWarning: invalid value encountered in double_scalars\n",
      "C:\\Users\\datas\\Anaconda3\\lib\\site-packages\\ipykernel\\__main__.py:77: RuntimeWarning: invalid value encountered in double_scalars\n"
     ]
    }
   ],
   "source": [
    "# Building models using all the above models\n",
    "from sklearn.tree import DecisionTreeClassifier\n",
    "from sklearn.naive_bayes import GaussianNB\n",
    "from sklearn.svm import SVC\n",
    "from sklearn.linear_model import LogisticRegression\n",
    "from sklearn.ensemble import BaggingClassifier, AdaBoostClassifier, RandomForestClassifier, GradientBoostingClassifier\n",
    "from sklearn.neighbors import KNeighborsClassifier\n",
    "from sklearn.metrics import accuracy_score, recall_score, precision_score, f1_score\n",
    "from time import time\n",
    "\n",
    "# Creating list to save the information\n",
    "model_name = []\n",
    "train_accuracy = []\n",
    "test_accuracy = []\n",
    "\n",
    "train_recall = []\n",
    "test_recall = []\n",
    "\n",
    "train_precision = []\n",
    "test_precision = []\n",
    "\n",
    "train_fscore = []\n",
    "test_fscore = []\n",
    "\n",
    "model_run_time = []\n",
    "\n",
    "names = [\"DecisionTreeClassifier\", \"GaussianNB\", \"Linear SVM\", \"RBF SVM\",\"LogisticRegression\",\n",
    " \"BaggingClassifier\", \"RandomForestClassifier\", \"AdaBoostClassifier\", \"GradientBoostingClassifier\",\n",
    " \"KNeighborsClassifier\"] \n",
    "\n",
    "classifiers = [DecisionTreeClassifier(),\n",
    "    GaussianNB(),\n",
    "    SVC(kernel=\"linear\"),\n",
    "    SVC(kernel=\"rbf\"),\n",
    "    LogisticRegression(),\n",
    "    BaggingClassifier(),\n",
    "    RandomForestClassifier(),\n",
    "    AdaBoostClassifier(),\n",
    "    GradientBoostingClassifier(),        \n",
    "    KNeighborsClassifier()]\n",
    "\n",
    "\n",
    "# iterate over classifiers\n",
    "for name, clf in zip(names, classifiers):\n",
    "    start = time() # Get start time for each model building\n",
    "    model_name.append(name)\n",
    "    # Building model \n",
    "    clf.fit(X_train, y_train)\n",
    "    \n",
    "    # Scoring on test and train\n",
    "    train_predictions = clf.predict(X_train)\n",
    "    test_predictions = clf.predict(X_test)\n",
    "        \n",
    "    # Compute accuracy on the test and Train set\n",
    "    train_accuracy1 = accuracy_score(y_train, train_predictions)\n",
    "    test_accuracy1 = accuracy_score(y_test, test_predictions)\n",
    "    \n",
    "    train_accuracy.append(train_accuracy1)\n",
    "    test_accuracy.append(test_accuracy1)\n",
    "    \n",
    "    # Compute recall on the test and Train set\n",
    "    train_recall1 = recall_score(y_train, train_predictions)\n",
    "    test_recall1 = recall_score(y_test, test_predictions)\n",
    "    \n",
    "    train_recall.append(train_recall1)\n",
    "    test_recall.append(test_recall1)\n",
    "    \n",
    "    # Compute precision on the test and Train set\n",
    "    train_precision1 = precision_score(y_train, train_predictions)\n",
    "    test_precision1 = precision_score(y_test, test_predictions)\n",
    "    \n",
    "    train_precision.append(train_precision1)\n",
    "    test_precision.append(test_precision1)\n",
    "    \n",
    "    # Compute F-score on the test and Train set\n",
    "    train_fscore1 = 2 * (train_precision1 * train_recall1) / (train_precision1 + train_recall1)\n",
    "    test_fscore1 = 2 * (test_precision1 * test_recall1) / (test_precision1 + test_recall1)\n",
    "    \n",
    "    train_fscore.append(train_fscore1)\n",
    "    test_fscore.append(test_fscore1)   \n",
    "    \n",
    "    end = time() # Get end time for each model building\n",
    "    model_run_time.append(end - start)\n",
    "    \n",
    "model_results = pd.DataFrame({\n",
    "                              'model_name': pd.Series(model_name), 'model_run_time':  pd.Series(model_run_time),\n",
    "                              'train_accuracy':  pd.Series(train_accuracy), 'test_accuracy': pd.Series(test_accuracy), \n",
    "                              'train_recall':  pd.Series(train_recall), 'test_recall': pd.Series(test_recall), \n",
    "                              'train_precision':  pd.Series(train_precision), 'test_precision': pd.Series(test_precision),\n",
    "                              'train_fscore':  pd.Series(train_fscore), 'test_fscore': pd.Series(test_fscore)\n",
    "                             }, columns = ['model_name', 'model_run_time', 'train_accuracy', 'test_accuracy',\n",
    "                                          'train_recall', 'test_recall', 'train_precision', 'test_precision',\n",
    "                                          'train_fscore', 'test_fscore'])\n",
    "                              \n",
    "model_results.to_csv(\"model_results_logtrans_scaled.csv\")"
   ]
  },
  {
   "cell_type": "code",
   "execution_count": 53,
   "metadata": {},
   "outputs": [
    {
     "data": {
      "text/html": [
       "<div>\n",
       "<style>\n",
       "    .dataframe thead tr:only-child th {\n",
       "        text-align: right;\n",
       "    }\n",
       "\n",
       "    .dataframe thead th {\n",
       "        text-align: left;\n",
       "    }\n",
       "\n",
       "    .dataframe tbody tr th {\n",
       "        vertical-align: top;\n",
       "    }\n",
       "</style>\n",
       "<table border=\"1\" class=\"dataframe\">\n",
       "  <thead>\n",
       "    <tr style=\"text-align: right;\">\n",
       "      <th></th>\n",
       "      <th>model_name</th>\n",
       "      <th>model_run_time</th>\n",
       "      <th>train_accuracy</th>\n",
       "      <th>test_accuracy</th>\n",
       "      <th>train_recall</th>\n",
       "      <th>test_recall</th>\n",
       "      <th>train_precision</th>\n",
       "      <th>test_precision</th>\n",
       "      <th>train_fscore</th>\n",
       "      <th>test_fscore</th>\n",
       "    </tr>\n",
       "  </thead>\n",
       "  <tbody>\n",
       "    <tr>\n",
       "      <th>0</th>\n",
       "      <td>DecisionTreeClassifier</td>\n",
       "      <td>0.599482</td>\n",
       "      <td>1.000000</td>\n",
       "      <td>0.756451</td>\n",
       "      <td>1.000000</td>\n",
       "      <td>0.428928</td>\n",
       "      <td>1.000000</td>\n",
       "      <td>0.424168</td>\n",
       "      <td>1.000000</td>\n",
       "      <td>0.426534</td>\n",
       "    </tr>\n",
       "    <tr>\n",
       "      <th>1</th>\n",
       "      <td>GaussianNB</td>\n",
       "      <td>0.089374</td>\n",
       "      <td>0.700643</td>\n",
       "      <td>0.702738</td>\n",
       "      <td>0.675833</td>\n",
       "      <td>0.662095</td>\n",
       "      <td>0.385288</td>\n",
       "      <td>0.382289</td>\n",
       "      <td>0.490783</td>\n",
       "      <td>0.484710</td>\n",
       "    </tr>\n",
       "    <tr>\n",
       "      <th>2</th>\n",
       "      <td>Linear SVM</td>\n",
       "      <td>11.006905</td>\n",
       "      <td>0.786545</td>\n",
       "      <td>0.788836</td>\n",
       "      <td>0.000000</td>\n",
       "      <td>0.000000</td>\n",
       "      <td>0.000000</td>\n",
       "      <td>0.000000</td>\n",
       "      <td>NaN</td>\n",
       "      <td>NaN</td>\n",
       "    </tr>\n",
       "    <tr>\n",
       "      <th>3</th>\n",
       "      <td>RBF SVM</td>\n",
       "      <td>14.149461</td>\n",
       "      <td>0.789931</td>\n",
       "      <td>0.791996</td>\n",
       "      <td>0.020624</td>\n",
       "      <td>0.019950</td>\n",
       "      <td>0.812500</td>\n",
       "      <td>0.800000</td>\n",
       "      <td>0.040227</td>\n",
       "      <td>0.038929</td>\n",
       "    </tr>\n",
       "    <tr>\n",
       "      <th>4</th>\n",
       "      <td>LogisticRegression</td>\n",
       "      <td>0.206951</td>\n",
       "      <td>0.810137</td>\n",
       "      <td>0.811743</td>\n",
       "      <td>0.245373</td>\n",
       "      <td>0.251870</td>\n",
       "      <td>0.645341</td>\n",
       "      <td>0.637224</td>\n",
       "      <td>0.355556</td>\n",
       "      <td>0.361037</td>\n",
       "    </tr>\n",
       "    <tr>\n",
       "      <th>5</th>\n",
       "      <td>BaggingClassifier</td>\n",
       "      <td>3.227624</td>\n",
       "      <td>0.982955</td>\n",
       "      <td>0.820958</td>\n",
       "      <td>0.925436</td>\n",
       "      <td>0.365337</td>\n",
       "      <td>0.994318</td>\n",
       "      <td>0.631466</td>\n",
       "      <td>0.958641</td>\n",
       "      <td>0.462875</td>\n",
       "    </tr>\n",
       "    <tr>\n",
       "      <th>6</th>\n",
       "      <td>RandomForestClassifier</td>\n",
       "      <td>0.507614</td>\n",
       "      <td>0.986680</td>\n",
       "      <td>0.806477</td>\n",
       "      <td>0.940243</td>\n",
       "      <td>0.295511</td>\n",
       "      <td>0.997196</td>\n",
       "      <td>0.582310</td>\n",
       "      <td>0.967882</td>\n",
       "      <td>0.392060</td>\n",
       "    </tr>\n",
       "    <tr>\n",
       "      <th>7</th>\n",
       "      <td>AdaBoostClassifier</td>\n",
       "      <td>1.919957</td>\n",
       "      <td>0.827859</td>\n",
       "      <td>0.807004</td>\n",
       "      <td>0.334744</td>\n",
       "      <td>0.285536</td>\n",
       "      <td>0.703333</td>\n",
       "      <td>0.588689</td>\n",
       "      <td>0.453601</td>\n",
       "      <td>0.384551</td>\n",
       "    </tr>\n",
       "    <tr>\n",
       "      <th>8</th>\n",
       "      <td>GradientBoostingClassifier</td>\n",
       "      <td>3.107790</td>\n",
       "      <td>0.860707</td>\n",
       "      <td>0.826224</td>\n",
       "      <td>0.468006</td>\n",
       "      <td>0.371571</td>\n",
       "      <td>0.795148</td>\n",
       "      <td>0.656388</td>\n",
       "      <td>0.589214</td>\n",
       "      <td>0.474522</td>\n",
       "    </tr>\n",
       "    <tr>\n",
       "      <th>9</th>\n",
       "      <td>KNeighborsClassifier</td>\n",
       "      <td>13.515811</td>\n",
       "      <td>0.844565</td>\n",
       "      <td>0.775671</td>\n",
       "      <td>0.454786</td>\n",
       "      <td>0.299252</td>\n",
       "      <td>0.713101</td>\n",
       "      <td>0.452830</td>\n",
       "      <td>0.555376</td>\n",
       "      <td>0.360360</td>\n",
       "    </tr>\n",
       "  </tbody>\n",
       "</table>\n",
       "</div>"
      ],
      "text/plain": [
       "                   model_name  model_run_time  train_accuracy  test_accuracy  \\\n",
       "0      DecisionTreeClassifier        0.599482        1.000000       0.756451   \n",
       "1                  GaussianNB        0.089374        0.700643       0.702738   \n",
       "2                  Linear SVM       11.006905        0.786545       0.788836   \n",
       "3                     RBF SVM       14.149461        0.789931       0.791996   \n",
       "4          LogisticRegression        0.206951        0.810137       0.811743   \n",
       "5           BaggingClassifier        3.227624        0.982955       0.820958   \n",
       "6      RandomForestClassifier        0.507614        0.986680       0.806477   \n",
       "7          AdaBoostClassifier        1.919957        0.827859       0.807004   \n",
       "8  GradientBoostingClassifier        3.107790        0.860707       0.826224   \n",
       "9        KNeighborsClassifier       13.515811        0.844565       0.775671   \n",
       "\n",
       "   train_recall  test_recall  train_precision  test_precision  train_fscore  \\\n",
       "0      1.000000     0.428928         1.000000        0.424168      1.000000   \n",
       "1      0.675833     0.662095         0.385288        0.382289      0.490783   \n",
       "2      0.000000     0.000000         0.000000        0.000000           NaN   \n",
       "3      0.020624     0.019950         0.812500        0.800000      0.040227   \n",
       "4      0.245373     0.251870         0.645341        0.637224      0.355556   \n",
       "5      0.925436     0.365337         0.994318        0.631466      0.958641   \n",
       "6      0.940243     0.295511         0.997196        0.582310      0.967882   \n",
       "7      0.334744     0.285536         0.703333        0.588689      0.453601   \n",
       "8      0.468006     0.371571         0.795148        0.656388      0.589214   \n",
       "9      0.454786     0.299252         0.713101        0.452830      0.555376   \n",
       "\n",
       "   test_fscore  \n",
       "0     0.426534  \n",
       "1     0.484710  \n",
       "2          NaN  \n",
       "3     0.038929  \n",
       "4     0.361037  \n",
       "5     0.462875  \n",
       "6     0.392060  \n",
       "7     0.384551  \n",
       "8     0.474522  \n",
       "9     0.360360  "
      ]
     },
     "execution_count": 53,
     "metadata": {},
     "output_type": "execute_result"
    }
   ],
   "source": [
    "model_results"
   ]
  },
  {
   "cell_type": "code",
   "execution_count": 62,
   "metadata": {
    "scrolled": true
   },
   "outputs": [
    {
     "data": {
      "text/html": [
       "<div>\n",
       "<style>\n",
       "    .dataframe thead tr:only-child th {\n",
       "        text-align: right;\n",
       "    }\n",
       "\n",
       "    .dataframe thead th {\n",
       "        text-align: left;\n",
       "    }\n",
       "\n",
       "    .dataframe tbody tr th {\n",
       "        vertical-align: top;\n",
       "    }\n",
       "</style>\n",
       "<table border=\"1\" class=\"dataframe\">\n",
       "  <thead>\n",
       "    <tr style=\"text-align: right;\">\n",
       "      <th>Predicted</th>\n",
       "      <th>0</th>\n",
       "      <th>1</th>\n",
       "      <th>All</th>\n",
       "    </tr>\n",
       "    <tr>\n",
       "      <th>True</th>\n",
       "      <th></th>\n",
       "      <th></th>\n",
       "      <th></th>\n",
       "    </tr>\n",
       "  </thead>\n",
       "  <tbody>\n",
       "    <tr>\n",
       "      <th>0</th>\n",
       "      <td>4929</td>\n",
       "      <td>2039</td>\n",
       "      <td>6968</td>\n",
       "    </tr>\n",
       "    <tr>\n",
       "      <th>1</th>\n",
       "      <td>613</td>\n",
       "      <td>1278</td>\n",
       "      <td>1891</td>\n",
       "    </tr>\n",
       "    <tr>\n",
       "      <th>All</th>\n",
       "      <td>5542</td>\n",
       "      <td>3317</td>\n",
       "      <td>8859</td>\n",
       "    </tr>\n",
       "  </tbody>\n",
       "</table>\n",
       "</div>"
      ],
      "text/plain": [
       "Predicted     0     1   All\n",
       "True                       \n",
       "0          4929  2039  6968\n",
       "1           613  1278  1891\n",
       "All        5542  3317  8859"
      ]
     },
     "execution_count": 62,
     "metadata": {},
     "output_type": "execute_result"
    }
   ],
   "source": [
    "# Generating the confusion matrix for Gaussian Naive Bayes algorithm\n",
    "\n",
    "clf = GaussianNB()\n",
    "clf.fit(X_train, y_train)\n",
    "    \n",
    "# Scoring on test and train\n",
    "train_predictions = clf.predict(X_train)\n",
    "test_predictions = clf.predict(X_test)\n",
    "\n",
    "pd.crosstab(y_train, train_predictions, rownames=['True'], colnames=['Predicted'], margins=True)"
   ]
  },
  {
   "cell_type": "code",
   "execution_count": 90,
   "metadata": {},
   "outputs": [
    {
     "data": {
      "text/html": [
       "<div>\n",
       "<style>\n",
       "    .dataframe thead tr:only-child th {\n",
       "        text-align: right;\n",
       "    }\n",
       "\n",
       "    .dataframe thead th {\n",
       "        text-align: left;\n",
       "    }\n",
       "\n",
       "    .dataframe tbody tr th {\n",
       "        vertical-align: top;\n",
       "    }\n",
       "</style>\n",
       "<table border=\"1\" class=\"dataframe\">\n",
       "  <thead>\n",
       "    <tr style=\"text-align: right;\">\n",
       "      <th>Predicted</th>\n",
       "      <th>0</th>\n",
       "      <th>1</th>\n",
       "      <th>All</th>\n",
       "    </tr>\n",
       "    <tr>\n",
       "      <th>True</th>\n",
       "      <th></th>\n",
       "      <th></th>\n",
       "      <th></th>\n",
       "    </tr>\n",
       "  </thead>\n",
       "  <tbody>\n",
       "    <tr>\n",
       "      <th>0</th>\n",
       "      <td>2138</td>\n",
       "      <td>858</td>\n",
       "      <td>2996</td>\n",
       "    </tr>\n",
       "    <tr>\n",
       "      <th>1</th>\n",
       "      <td>271</td>\n",
       "      <td>531</td>\n",
       "      <td>802</td>\n",
       "    </tr>\n",
       "    <tr>\n",
       "      <th>All</th>\n",
       "      <td>2409</td>\n",
       "      <td>1389</td>\n",
       "      <td>3798</td>\n",
       "    </tr>\n",
       "  </tbody>\n",
       "</table>\n",
       "</div>"
      ],
      "text/plain": [
       "Predicted     0     1   All\n",
       "True                       \n",
       "0          2138   858  2996\n",
       "1           271   531   802\n",
       "All        2409  1389  3798"
      ]
     },
     "execution_count": 90,
     "metadata": {},
     "output_type": "execute_result"
    }
   ],
   "source": [
    "pd.crosstab(y_test, test_predictions, rownames=['True'], colnames=['Predicted'], margins=True)"
   ]
  },
  {
   "cell_type": "code",
   "execution_count": 58,
   "metadata": {},
   "outputs": [
    {
     "name": "stdout",
     "output_type": "stream",
     "text": [
      "Extracting the top 40 eigenfaces from 8859 faces\n",
      "done in 0.148s\n"
     ]
    }
   ],
   "source": [
    "from sklearn.decomposition import RandomizedPCA\n",
    "from sklearn.decomposition import PCA\n",
    "from sklearn.svm import SVC\n",
    "n_components = 40\n",
    "\n",
    "print( \"Extracting the top %d eigenfaces from %d faces\" % (n_components, X_train.shape[0]) )\n",
    "t0 = time()\n",
    "\n",
    "# TODO: Create an instance of PCA, initializing with n_components=n_components and whiten=True\n",
    "pca = PCA(n_components=n_components, whiten=True, svd_solver='randomized')\n",
    "\n",
    "#TODO: pass the training dataset (X_train) to pca's 'fit()' method\n",
    "pca = pca.fit(X_train)\n",
    "\n",
    "\n",
    "print(\"done in %0.3fs\" % (time() - t0))"
   ]
  },
  {
   "cell_type": "code",
   "execution_count": 59,
   "metadata": {},
   "outputs": [
    {
     "name": "stdout",
     "output_type": "stream",
     "text": [
      "done in 0.019s\n"
     ]
    }
   ],
   "source": [
    "#eigenfaces = pca.components_.reshape((n_components, h, w))\n",
    "\n",
    "t0 = time()\n",
    "X_train_pca = pca.transform(X_train)\n",
    "X_test_pca = pca.transform(X_test)\n",
    "print(\"done in %0.3fs\" % (time() - t0))"
   ]
  },
  {
   "cell_type": "code",
   "execution_count": 60,
   "metadata": {},
   "outputs": [
    {
     "name": "stderr",
     "output_type": "stream",
     "text": [
      "C:\\Users\\datas\\Anaconda3\\lib\\site-packages\\sklearn\\metrics\\classification.py:1113: UndefinedMetricWarning: Precision is ill-defined and being set to 0.0 due to no predicted samples.\n",
      "  'precision', 'predicted', average, warn_for)\n",
      "C:\\Users\\datas\\Anaconda3\\lib\\site-packages\\ipykernel\\__main__.py:76: RuntimeWarning: invalid value encountered in double_scalars\n",
      "C:\\Users\\datas\\Anaconda3\\lib\\site-packages\\ipykernel\\__main__.py:77: RuntimeWarning: invalid value encountered in double_scalars\n"
     ]
    }
   ],
   "source": [
    "# Building models using all the above models\n",
    "from sklearn.tree import DecisionTreeClassifier\n",
    "from sklearn.naive_bayes import GaussianNB\n",
    "from sklearn.svm import SVC\n",
    "from sklearn.linear_model import LogisticRegression\n",
    "from sklearn.ensemble import BaggingClassifier, AdaBoostClassifier, RandomForestClassifier, GradientBoostingClassifier\n",
    "from sklearn.neighbors import KNeighborsClassifier\n",
    "from sklearn.metrics import accuracy_score, recall_score, precision_score, f1_score\n",
    "from time import time\n",
    "\n",
    "# Creating list to save the information\n",
    "model_name = []\n",
    "train_accuracy = []\n",
    "test_accuracy = []\n",
    "\n",
    "train_recall = []\n",
    "test_recall = []\n",
    "\n",
    "train_precision = []\n",
    "test_precision = []\n",
    "\n",
    "train_fscore = []\n",
    "test_fscore = []\n",
    "\n",
    "model_run_time = []\n",
    "\n",
    "names = [\"DecisionTreeClassifier\", \"GaussianNB\", \"Linear SVM\", \"RBF SVM\",\"LogisticRegression\",\n",
    " \"BaggingClassifier\", \"RandomForestClassifier\", \"AdaBoostClassifier\", \"GradientBoostingClassifier\",\n",
    " \"KNeighborsClassifier\"] \n",
    "\n",
    "classifiers = [DecisionTreeClassifier(),\n",
    "    GaussianNB(),\n",
    "    SVC(kernel=\"linear\"),\n",
    "    SVC(kernel=\"rbf\"),\n",
    "    LogisticRegression(),\n",
    "    BaggingClassifier(),\n",
    "    RandomForestClassifier(),\n",
    "    AdaBoostClassifier(),\n",
    "    GradientBoostingClassifier(),        \n",
    "    KNeighborsClassifier()]\n",
    "\n",
    "\n",
    "# iterate over classifiers\n",
    "for name, clf in zip(names, classifiers):\n",
    "    start = time() # Get start time for each model building\n",
    "    model_name.append(name)\n",
    "    # Building model \n",
    "    clf.fit(X_train_pca, y_train)\n",
    "    \n",
    "    # Scoring on test and train\n",
    "    train_predictions = clf.predict(X_train_pca)\n",
    "    test_predictions = clf.predict(X_test_pca)\n",
    "        \n",
    "    # Compute accuracy on the test and Train set\n",
    "    train_accuracy1 = accuracy_score(y_train, train_predictions)\n",
    "    test_accuracy1 = accuracy_score(y_test, test_predictions)\n",
    "    \n",
    "    train_accuracy.append(train_accuracy1)\n",
    "    test_accuracy.append(test_accuracy1)\n",
    "    \n",
    "    # Compute recall on the test and Train set\n",
    "    train_recall1 = recall_score(y_train, train_predictions)\n",
    "    test_recall1 = recall_score(y_test, test_predictions)\n",
    "    \n",
    "    train_recall.append(train_recall1)\n",
    "    test_recall.append(test_recall1)\n",
    "    \n",
    "    # Compute precision on the test and Train set\n",
    "    train_precision1 = precision_score(y_train, train_predictions)\n",
    "    test_precision1 = precision_score(y_test, test_predictions)\n",
    "    \n",
    "    train_precision.append(train_precision1)\n",
    "    test_precision.append(test_precision1)\n",
    "    \n",
    "    # Compute F-score on the test and Train set\n",
    "    train_fscore1 = 2 * (train_precision1 * train_recall1) / (train_precision1 + train_recall1)\n",
    "    test_fscore1 = 2 * (test_precision1 * test_recall1) / (test_precision1 + test_recall1)\n",
    "    \n",
    "    train_fscore.append(train_fscore1)\n",
    "    test_fscore.append(test_fscore1)   \n",
    "    \n",
    "    end = time() # Get end time for each model building\n",
    "    model_run_time.append(end - start)\n",
    "    \n",
    "model_results_pca = pd.DataFrame({\n",
    "                              'model_name': pd.Series(model_name), 'model_run_time':  pd.Series(model_run_time),\n",
    "                              'train_accuracy':  pd.Series(train_accuracy), 'test_accuracy': pd.Series(test_accuracy), \n",
    "                              'train_recall':  pd.Series(train_recall), 'test_recall': pd.Series(test_recall), \n",
    "                              'train_precision':  pd.Series(train_precision), 'test_precision': pd.Series(test_precision),\n",
    "                              'train_fscore':  pd.Series(train_fscore), 'test_fscore': pd.Series(test_fscore)\n",
    "                             }, columns = ['model_name', 'model_run_time', 'train_accuracy', 'test_accuracy',\n",
    "                                          'train_recall', 'test_recall', 'train_precision', 'test_precision',\n",
    "                                          'train_fscore', 'test_fscore'])\n",
    "                              \n",
    "model_results_pca.to_csv(\"model_results_Scale_pca_log.csv\")"
   ]
  },
  {
   "cell_type": "code",
   "execution_count": 61,
   "metadata": {},
   "outputs": [
    {
     "data": {
      "text/html": [
       "<div>\n",
       "<style>\n",
       "    .dataframe thead tr:only-child th {\n",
       "        text-align: right;\n",
       "    }\n",
       "\n",
       "    .dataframe thead th {\n",
       "        text-align: left;\n",
       "    }\n",
       "\n",
       "    .dataframe tbody tr th {\n",
       "        vertical-align: top;\n",
       "    }\n",
       "</style>\n",
       "<table border=\"1\" class=\"dataframe\">\n",
       "  <thead>\n",
       "    <tr style=\"text-align: right;\">\n",
       "      <th></th>\n",
       "      <th>model_name</th>\n",
       "      <th>model_run_time</th>\n",
       "      <th>train_accuracy</th>\n",
       "      <th>test_accuracy</th>\n",
       "      <th>train_recall</th>\n",
       "      <th>test_recall</th>\n",
       "      <th>train_precision</th>\n",
       "      <th>test_precision</th>\n",
       "      <th>train_fscore</th>\n",
       "      <th>test_fscore</th>\n",
       "    </tr>\n",
       "  </thead>\n",
       "  <tbody>\n",
       "    <tr>\n",
       "      <th>0</th>\n",
       "      <td>DecisionTreeClassifier</td>\n",
       "      <td>1.626191</td>\n",
       "      <td>1.000000</td>\n",
       "      <td>0.734597</td>\n",
       "      <td>1.000000</td>\n",
       "      <td>0.406484</td>\n",
       "      <td>1.000000</td>\n",
       "      <td>0.379953</td>\n",
       "      <td>1.000000</td>\n",
       "      <td>0.392771</td>\n",
       "    </tr>\n",
       "    <tr>\n",
       "      <th>1</th>\n",
       "      <td>GaussianNB</td>\n",
       "      <td>0.052472</td>\n",
       "      <td>0.763292</td>\n",
       "      <td>0.761453</td>\n",
       "      <td>0.436806</td>\n",
       "      <td>0.440150</td>\n",
       "      <td>0.444564</td>\n",
       "      <td>0.435802</td>\n",
       "      <td>0.440651</td>\n",
       "      <td>0.437965</td>\n",
       "    </tr>\n",
       "    <tr>\n",
       "      <th>2</th>\n",
       "      <td>Linear SVM</td>\n",
       "      <td>15.375756</td>\n",
       "      <td>0.786545</td>\n",
       "      <td>0.788836</td>\n",
       "      <td>0.000000</td>\n",
       "      <td>0.000000</td>\n",
       "      <td>0.000000</td>\n",
       "      <td>0.000000</td>\n",
       "      <td>NaN</td>\n",
       "      <td>NaN</td>\n",
       "    </tr>\n",
       "    <tr>\n",
       "      <th>3</th>\n",
       "      <td>RBF SVM</td>\n",
       "      <td>14.241705</td>\n",
       "      <td>0.845468</td>\n",
       "      <td>0.809373</td>\n",
       "      <td>0.329984</td>\n",
       "      <td>0.205736</td>\n",
       "      <td>0.859504</td>\n",
       "      <td>0.654762</td>\n",
       "      <td>0.476882</td>\n",
       "      <td>0.313093</td>\n",
       "    </tr>\n",
       "    <tr>\n",
       "      <th>4</th>\n",
       "      <td>LogisticRegression</td>\n",
       "      <td>0.091584</td>\n",
       "      <td>0.810588</td>\n",
       "      <td>0.810427</td>\n",
       "      <td>0.255949</td>\n",
       "      <td>0.263092</td>\n",
       "      <td>0.641060</td>\n",
       "      <td>0.620588</td>\n",
       "      <td>0.365835</td>\n",
       "      <td>0.369527</td>\n",
       "    </tr>\n",
       "    <tr>\n",
       "      <th>5</th>\n",
       "      <td>BaggingClassifier</td>\n",
       "      <td>8.706322</td>\n",
       "      <td>0.982165</td>\n",
       "      <td>0.802528</td>\n",
       "      <td>0.919619</td>\n",
       "      <td>0.311721</td>\n",
       "      <td>0.996562</td>\n",
       "      <td>0.558036</td>\n",
       "      <td>0.956546</td>\n",
       "      <td>0.400000</td>\n",
       "    </tr>\n",
       "    <tr>\n",
       "      <th>6</th>\n",
       "      <td>RandomForestClassifier</td>\n",
       "      <td>1.306443</td>\n",
       "      <td>0.983971</td>\n",
       "      <td>0.802264</td>\n",
       "      <td>0.926494</td>\n",
       "      <td>0.256858</td>\n",
       "      <td>0.998291</td>\n",
       "      <td>0.570637</td>\n",
       "      <td>0.961053</td>\n",
       "      <td>0.354256</td>\n",
       "    </tr>\n",
       "    <tr>\n",
       "      <th>7</th>\n",
       "      <td>AdaBoostClassifier</td>\n",
       "      <td>6.009754</td>\n",
       "      <td>0.817474</td>\n",
       "      <td>0.806477</td>\n",
       "      <td>0.305130</td>\n",
       "      <td>0.278055</td>\n",
       "      <td>0.655682</td>\n",
       "      <td>0.588391</td>\n",
       "      <td>0.416456</td>\n",
       "      <td>0.377646</td>\n",
       "    </tr>\n",
       "    <tr>\n",
       "      <th>8</th>\n",
       "      <td>GradientBoostingClassifier</td>\n",
       "      <td>7.254126</td>\n",
       "      <td>0.849080</td>\n",
       "      <td>0.816482</td>\n",
       "      <td>0.371761</td>\n",
       "      <td>0.285536</td>\n",
       "      <td>0.825117</td>\n",
       "      <td>0.648725</td>\n",
       "      <td>0.512577</td>\n",
       "      <td>0.396537</td>\n",
       "    </tr>\n",
       "    <tr>\n",
       "      <th>9</th>\n",
       "      <td>KNeighborsClassifier</td>\n",
       "      <td>22.566356</td>\n",
       "      <td>0.844452</td>\n",
       "      <td>0.780147</td>\n",
       "      <td>0.405605</td>\n",
       "      <td>0.218204</td>\n",
       "      <td>0.751224</td>\n",
       "      <td>0.456919</td>\n",
       "      <td>0.526786</td>\n",
       "      <td>0.295359</td>\n",
       "    </tr>\n",
       "  </tbody>\n",
       "</table>\n",
       "</div>"
      ],
      "text/plain": [
       "                   model_name  model_run_time  train_accuracy  test_accuracy  \\\n",
       "0      DecisionTreeClassifier        1.626191        1.000000       0.734597   \n",
       "1                  GaussianNB        0.052472        0.763292       0.761453   \n",
       "2                  Linear SVM       15.375756        0.786545       0.788836   \n",
       "3                     RBF SVM       14.241705        0.845468       0.809373   \n",
       "4          LogisticRegression        0.091584        0.810588       0.810427   \n",
       "5           BaggingClassifier        8.706322        0.982165       0.802528   \n",
       "6      RandomForestClassifier        1.306443        0.983971       0.802264   \n",
       "7          AdaBoostClassifier        6.009754        0.817474       0.806477   \n",
       "8  GradientBoostingClassifier        7.254126        0.849080       0.816482   \n",
       "9        KNeighborsClassifier       22.566356        0.844452       0.780147   \n",
       "\n",
       "   train_recall  test_recall  train_precision  test_precision  train_fscore  \\\n",
       "0      1.000000     0.406484         1.000000        0.379953      1.000000   \n",
       "1      0.436806     0.440150         0.444564        0.435802      0.440651   \n",
       "2      0.000000     0.000000         0.000000        0.000000           NaN   \n",
       "3      0.329984     0.205736         0.859504        0.654762      0.476882   \n",
       "4      0.255949     0.263092         0.641060        0.620588      0.365835   \n",
       "5      0.919619     0.311721         0.996562        0.558036      0.956546   \n",
       "6      0.926494     0.256858         0.998291        0.570637      0.961053   \n",
       "7      0.305130     0.278055         0.655682        0.588391      0.416456   \n",
       "8      0.371761     0.285536         0.825117        0.648725      0.512577   \n",
       "9      0.405605     0.218204         0.751224        0.456919      0.526786   \n",
       "\n",
       "   test_fscore  \n",
       "0     0.392771  \n",
       "1     0.437965  \n",
       "2          NaN  \n",
       "3     0.313093  \n",
       "4     0.369527  \n",
       "5     0.400000  \n",
       "6     0.354256  \n",
       "7     0.377646  \n",
       "8     0.396537  \n",
       "9     0.295359  "
      ]
     },
     "execution_count": 61,
     "metadata": {},
     "output_type": "execute_result"
    }
   ],
   "source": [
    "model_results_pca"
   ]
  },
  {
   "cell_type": "code",
   "execution_count": 136,
   "metadata": {
    "scrolled": true
   },
   "outputs": [],
   "source": [
    "# Figuring out optiml cutoff in training and see if the results sustain\n",
    "from sklearn.linear_model import LogisticRegression\n",
    "lr = LogisticRegression()\n",
    "lr.fit(X_train, y_train)\n",
    "\n",
    "prob = pd.Series(lr.predict_proba(X_train)[:, 1])\n",
    "\n",
    "cutoff = []\n",
    "TPR = []\n",
    "TNR = []\n",
    "Accuracy = []\n",
    "\n",
    "Precision =[]\n",
    "\n",
    "for i in np.arange(0.2, 0.8, 0.01):\n",
    "    cutoff.append(i)\n",
    "    predicted = prob.apply(lambda x: 1 if x >= i else 0)\n",
    "    crosstab = pd.crosstab(y_train, predicted, rownames=['True'], colnames=['Predicted'], margins=False)\n",
    "    \n",
    "    TPR.append(round(crosstab.loc[1,1]/crosstab.iloc[1,:].sum(), 2))\n",
    "    TNR.append(round(crosstab.loc[0,0]/crosstab.iloc[0,:].sum(), 2))\n",
    "    \n",
    "    Accuracy.append(round((crosstab.loc[1,1] + crosstab.loc[0,0])/(crosstab.loc[1,1] + crosstab.loc[0,0] + crosstab.loc[0,1] + crosstab.loc[1,0]), 2))\n",
    "    Precision.append(round(crosstab.loc[1,1]/crosstab.iloc[:,1].sum(), 2))\n",
    "\n",
    "optimalCuttOff = pd.DataFrame({\n",
    "                              'cutoff': pd.Series(cutoff), 'TPR':  pd.Series(TPR),\n",
    "                              'TNR':  pd.Series(TNR), 'Accuracy': pd.Series(Accuracy), \n",
    "                              'Precision':  pd.Series(Precision)\n",
    "                             }, columns = ['cutoff', 'TPR', 'TNR', 'Accuracy','Precision'])\n",
    "    \n",
    "from numpy import loadtxt\n",
    "from xgboost import XGBClassifieroptimalCuttOff.to_csv(\"optimalCuttOff.csv\")                 "
   ]
  },
  {
   "cell_type": "markdown",
   "metadata": {},
   "source": [
    "# Trying XGBOOST Model "
   ]
  },
  {
   "cell_type": "code",
   "execution_count": 153,
   "metadata": {},
   "outputs": [
    {
     "name": "stderr",
     "output_type": "stream",
     "text": [
      "C:\\Users\\datas\\Anaconda3\\lib\\site-packages\\sklearn\\preprocessing\\label.py:171: DeprecationWarning: The truth value of an empty array is ambiguous. Returning False, but in future this will result in an error. Use `array.size > 0` to check that an array is not empty.\n",
      "  if diff:\n",
      "C:\\Users\\datas\\Anaconda3\\lib\\site-packages\\sklearn\\preprocessing\\label.py:171: DeprecationWarning: The truth value of an empty array is ambiguous. Returning False, but in future this will result in an error. Use `array.size > 0` to check that an array is not empty.\n",
      "  if diff:\n"
     ]
    },
    {
     "name": "stdout",
     "output_type": "stream",
     "text": [
      "Test Accuracy: 82.10%\n",
      "test Recall: 39.78%\n",
      "Train Accuracy: 100.00%\n",
      "Test Recall: 100.00%\n"
     ]
    }
   ],
   "source": [
    "\n",
    "from numpy import loadtxt\n",
    "from xgboost import XGBClassifier\n",
    "# fit model no training data\n",
    "model = XGBClassifier()\n",
    "model.fit(X_train, y_train)\n",
    "# make predictions for test data\n",
    "y_pred_train = model.predict(X_train)\n",
    "y_pred = model.predict(X_test)\n",
    "predictions = [round(value) for value in y_pred]\n",
    "# evaluate predictions\n",
    "accuracy = accuracy_score(y_test, predictions)\n",
    "print(\"Test Accuracy: %.2f%%\" % (accuracy * 100.0))\n",
    "test_recall1 = recall_score(y_test, predictions)\n",
    "print(\"test Recall: %.2f%%\" % (test_recall1 * 100.0))\n",
    "\n",
    "predictions_train = [round(value) for value in y_pred_train]\n",
    "accuracy = accuracy_score(y_train, predictions_train)\n",
    "print(\"Train Accuracy: %.2f%%\" % (accuracy * 100.0))\n",
    "train_recall1 = recall_score(y_train, predictions_train)\n",
    "print(\"Test Recall: %.2f%%\" % (train_recall1 * 100.0))"
   ]
  },
  {
   "cell_type": "code",
   "execution_count": 151,
   "metadata": {},
   "outputs": [
    {
     "name": "stdout",
     "output_type": "stream",
     "text": [
      "Accuracy: 36.53%\n"
     ]
    }
   ],
   "source": [
    "test_recall1 = recall_score(y_test, predictions)\n",
    "print(\"Accuracy: %.2f%%\" % (test_recall1 * 100.0))"
   ]
  }
 ],
 "metadata": {
  "kernelspec": {
   "display_name": "Python [default]",
   "language": "python",
   "name": "python3"
  },
  "language_info": {
   "codemirror_mode": {
    "name": "ipython",
    "version": 3
   },
   "file_extension": ".py",
   "mimetype": "text/x-python",
   "name": "python",
   "nbconvert_exporter": "python",
   "pygments_lexer": "ipython3",
   "version": "3.6.1"
  }
 },
 "nbformat": 4,
 "nbformat_minor": 2
}
